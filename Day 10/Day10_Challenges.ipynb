{
 "cells": [
  {
   "cell_type": "markdown",
   "id": "ec3b7bd6",
   "metadata": {},
   "source": [
    "# 100 Days of Coding Challenges"
   ]
  },
  {
   "cell_type": "markdown",
   "id": "13e2a228",
   "metadata": {},
   "source": [
    "## Day 10"
   ]
  },
  {
   "cell_type": "markdown",
   "id": "8544d74f",
   "metadata": {},
   "source": [
    "### Exercise 1 - Days in Month"
   ]
  },
  {
   "cell_type": "markdown",
   "id": "a30454f2",
   "metadata": {},
   "source": [
    "#### My solution:"
   ]
  },
  {
   "cell_type": "code",
   "execution_count": 7,
   "id": "1b4ab575",
   "metadata": {},
   "outputs": [
    {
     "name": "stdout",
     "output_type": "stream",
     "text": [
      "31\n"
     ]
    }
   ],
   "source": [
    "def is_leap(year):\n",
    "    if year % 4 == 0:\n",
    "        if year % 100 == 0:\n",
    "            if year % 400 == 0:\n",
    "                return True\n",
    "            else:\n",
    "                return False\n",
    "        else:\n",
    "            return True\n",
    "    else:\n",
    "        return False\n",
    "    \n",
    "# TODO: Add more code here 👇\n",
    "def days_in_month(year, month):\n",
    "    month_days = [31, 28, 31, 30, 31, 30, 31, 31, 30, 31, 30, 31] \n",
    "\n",
    "    #Validate if there is a leap year and update February if True\n",
    "    if is_leap(year) is True:\n",
    "        month_days[1] = 29\n",
    "\n",
    "    #Select the corresponding month\n",
    "    try:\n",
    "        n_days = month_days[month-1]\n",
    "    except:\n",
    "        n_days = 'Please enter a valid month number.'\n",
    "\n",
    "    return n_days\n",
    "\n",
    "#🚨 Do NOT change any of the code below \n",
    "year = int(input('Please enter a year:\\n')) # Enter a year\n",
    "month = int(input('Please enter a month:\\n')) # Enter a month\n",
    "days = days_in_month(year, month)\n",
    "print(days)"
   ]
  },
  {
   "cell_type": "markdown",
   "id": "fddcc549",
   "metadata": {},
   "source": [
    "### Exercise 2 (Final Project) - Calculator"
   ]
  },
  {
   "cell_type": "code",
   "execution_count": 3,
   "id": "13074af4",
   "metadata": {},
   "outputs": [],
   "source": [
    "#CALCULATOR\n",
    "from art import logo\n",
    "\n",
    "#Add function\n",
    "def add(n1, n2):\n",
    "    return n1 + n2\n",
    "\n",
    "#Substract function\n",
    "def substract(n1, n2):\n",
    "    return n1 - n2\n",
    "\n",
    "#Multiply function\n",
    "def multiply(n1, n2):\n",
    "    return n1 * n2\n",
    "\n",
    "#Divide function\n",
    "def divide(n1, n2):\n",
    "    return n1 / n2\n",
    "\n",
    "#Power function\n",
    "def power(n1, n2):\n",
    "    return n1 ** n2\n",
    "\n",
    "#Create dictionary to store operations\n",
    "operations = {\"+\": add, \"-\": substract, \"*\": multiply, \"/\": divide, '**': power}\n",
    "\n",
    "def calculator():\n",
    "    print(logo)\n",
    "  #Create the inputs for the operation numbers\n",
    "    try:\n",
    "        num1 = float(input(\"What's the first number?: \"))\n",
    "    except:\n",
    "        print('Please enter a valid number.')\n",
    "        calculator()\n",
    "  \n",
    "  #Show operation symbols\n",
    "    for symbol in operations:\n",
    "        print(symbol)\n",
    "  \n",
    "  #Generate while loop to make as many operations as the user wants\n",
    "    exit = False\n",
    "    while not exit:\n",
    "        try:\n",
    "            operation_symbol = input(\"Pick an operation: \")\n",
    "            num2 = float(input(\"What's the next number?: \"))\n",
    "\n",
    "            #Create a function to call the operations\n",
    "            call_operation = operations[operation_symbol]\n",
    "        except:\n",
    "            print(f\"Please enter a valid number and symbol. Your current value is {num1}.\")\n",
    "            continue\n",
    "        #Execute the operation and get new result\n",
    "        if num2 == 0 and call_operation == divide:\n",
    "            print(f\"Cannot divide number by 0. Your current value is {num1}.\")\n",
    "            continue\n",
    "        result = call_operation(num1, num2)\n",
    "        print(f\"{num1} {operation_symbol} {num2} = {result}\")\n",
    "  \n",
    "        #Ask user if the calculation will continue\n",
    "        should_continue = input(f\"Type 'y' to continue calculating with {result}, type 'n' to start a new calculation or type any other key to exit: \").lower()\n",
    "    \n",
    "        if should_continue == 'y':\n",
    "            num1 = result\n",
    "        elif should_continue == 'n':\n",
    "            exit = True\n",
    "            print(f\"Your final result is {result}.\\n\")\n",
    "            calculator() #Recursion, call a function to itself\n",
    "        else:\n",
    "            exit = True\n",
    "            print(f\"Your final result is {result}. Goodbye!\")"
   ]
  },
  {
   "cell_type": "code",
   "execution_count": 5,
   "id": "9a2b0cdb",
   "metadata": {},
   "outputs": [
    {
     "name": "stdout",
     "output_type": "stream",
     "text": [
      "\n",
      " _____________________\n",
      "|  _________________  |\n",
      "| | Pythonista   0. | |  .----------------.  .----------------.  .----------------.  .----------------. \n",
      "| |_________________| | | .--------------. || .--------------. || .--------------. || .--------------. |\n",
      "|  ___ ___ ___   ___  | | |     ______   | || |      __      | || |   _____      | || |     ______   | |\n",
      "| | 7 | 8 | 9 | | + | | | |   .' ___  |  | || |     /  \\     | || |  |_   _|     | || |   .' ___  |  | |\n",
      "| |___|___|___| |___| | | |  / .'   \\_|  | || |    / /\\ \\    | || |    | |       | || |  / .'   \\_|  | |\n",
      "| | 4 | 5 | 6 | | - | | | |  | |         | || |   / ____ \\   | || |    | |   _   | || |  | |         | |\n",
      "| |___|___|___| |___| | | |  \\ `.___.'\\  | || | _/ /    \\ \\_ | || |   _| |__/ |  | || |  \\ `.___.'\\  | |\n",
      "| | 1 | 2 | 3 | | x | | | |   `._____.'  | || ||____|  |____|| || |  |________|  | || |   `._____.'  | |\n",
      "| |___|___|___| |___| | | |              | || |              | || |              | || |              | |\n",
      "| | . | 0 | = | | / | | | '--------------' || '--------------' || '--------------' || '--------------' |\n",
      "| |___|___|___| |___| |  '----------------'  '----------------'  '----------------'  '----------------' \n",
      "|_____________________|\n",
      "\n",
      "What's the first number?: 5\n",
      "+\n",
      "-\n",
      "*\n",
      "/\n",
      "**\n",
      "Pick an operation: /\n",
      "What's the next number?: 0\n",
      "Cannot divide number by 0. Your current value is 5.0.\n",
      "Pick an operation: +\n",
      "What's the next number?: 5\n",
      "5.0 + 5.0 = 10.0\n",
      "Type 'y' to continue calculating with 10.0, type 'n' to start a new calculation or type any other key to exit: y\n",
      "Pick an operation: **\n",
      "What's the next number?: 2\n",
      "10.0 ** 2.0 = 100.0\n",
      "Type 'y' to continue calculating with 100.0, type 'n' to start a new calculation or type any other key to exit: y\n",
      "Pick an operation: n\n",
      "What's the next number?: 2\n",
      "Please enter a valid number and symbol. Your current value is 100.0.\n",
      "Pick an operation: *\n",
      "What's the next number?: 2\n",
      "100.0 * 2.0 = 200.0\n",
      "Type 'y' to continue calculating with 200.0, type 'n' to start a new calculation or type any other key to exit: n\n",
      "Your final result is 200.0.\n",
      "\n",
      "\n",
      " _____________________\n",
      "|  _________________  |\n",
      "| | Pythonista   0. | |  .----------------.  .----------------.  .----------------.  .----------------. \n",
      "| |_________________| | | .--------------. || .--------------. || .--------------. || .--------------. |\n",
      "|  ___ ___ ___   ___  | | |     ______   | || |      __      | || |   _____      | || |     ______   | |\n",
      "| | 7 | 8 | 9 | | + | | | |   .' ___  |  | || |     /  \\     | || |  |_   _|     | || |   .' ___  |  | |\n",
      "| |___|___|___| |___| | | |  / .'   \\_|  | || |    / /\\ \\    | || |    | |       | || |  / .'   \\_|  | |\n",
      "| | 4 | 5 | 6 | | - | | | |  | |         | || |   / ____ \\   | || |    | |   _   | || |  | |         | |\n",
      "| |___|___|___| |___| | | |  \\ `.___.'\\  | || | _/ /    \\ \\_ | || |   _| |__/ |  | || |  \\ `.___.'\\  | |\n",
      "| | 1 | 2 | 3 | | x | | | |   `._____.'  | || ||____|  |____|| || |  |________|  | || |   `._____.'  | |\n",
      "| |___|___|___| |___| | | |              | || |              | || |              | || |              | |\n",
      "| | . | 0 | = | | / | | | '--------------' || '--------------' || '--------------' || '--------------' |\n",
      "| |___|___|___| |___| |  '----------------'  '----------------'  '----------------'  '----------------' \n",
      "|_____________________|\n",
      "\n",
      "What's the first number?: 1\n",
      "+\n",
      "-\n",
      "*\n",
      "/\n",
      "**\n",
      "Pick an operation: +\n",
      "What's the next number?: 1\n",
      "1.0 + 1.0 = 2.0\n",
      "Type 'y' to continue calculating with 2.0, type 'n' to start a new calculation or type any other key to exit: e\n",
      "Your final result is 2.0. Goodbye!\n"
     ]
    }
   ],
   "source": [
    "#Execute calculator\n",
    "calculator()"
   ]
  }
 ],
 "metadata": {
  "kernelspec": {
   "display_name": "Python 3 (ipykernel)",
   "language": "python",
   "name": "python3"
  },
  "language_info": {
   "codemirror_mode": {
    "name": "ipython",
    "version": 3
   },
   "file_extension": ".py",
   "mimetype": "text/x-python",
   "name": "python",
   "nbconvert_exporter": "python",
   "pygments_lexer": "ipython3",
   "version": "3.12.5"
  }
 },
 "nbformat": 4,
 "nbformat_minor": 5
}
