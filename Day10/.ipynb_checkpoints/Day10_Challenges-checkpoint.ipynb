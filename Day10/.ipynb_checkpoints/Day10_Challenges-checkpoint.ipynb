{
 "cells": [
  {
   "cell_type": "markdown",
   "id": "ec3b7bd6",
   "metadata": {},
   "source": [
    "# 100 Days of Coding Challenges"
   ]
  },
  {
   "cell_type": "markdown",
   "id": "13e2a228",
   "metadata": {},
   "source": [
    "## Day 10"
   ]
  },
  {
   "cell_type": "markdown",
   "id": "8544d74f",
   "metadata": {},
   "source": [
    "### Exercise 1 - Days in Month"
   ]
  },
  {
   "cell_type": "markdown",
   "id": "a30454f2",
   "metadata": {},
   "source": [
    "#### My solution:"
   ]
  },
  {
   "cell_type": "code",
   "execution_count": 31,
   "id": "1b4ab575",
   "metadata": {},
   "outputs": [
    {
     "name": "stdout",
     "output_type": "stream",
     "text": [
      "2024\n",
      "02\n",
      "29\n"
     ]
    }
   ],
   "source": [
    "def is_leap(year):\n",
    "    if year % 4 == 0:\n",
    "        if year % 100 == 0:\n",
    "            if year % 400 == 0:\n",
    "                return True\n",
    "            else:\n",
    "                return False\n",
    "        else:\n",
    "            return True\n",
    "    else:\n",
    "        return False\n",
    "    \n",
    "# TODO: Add more code here 👇\n",
    "def days_in_month(year, month):\n",
    "    month_days = [31, 28, 31, 30, 31, 30, 31, 31, 30, 31, 30, 31] \n",
    "\n",
    "    #Validate if there is a leap year and update February if True\n",
    "    if is_leap(year) is True:\n",
    "        month_days[1] = 29\n",
    "\n",
    "    #Select the corresponding month\n",
    "    try:\n",
    "        n_days = month_days[month-1]\n",
    "    except:\n",
    "        n_days = 'Please enter a valid month number.'\n",
    "\n",
    "    return n_days\n",
    "\n",
    "#🚨 Do NOT change any of the code below \n",
    "year = int(input()) # Enter a year\n",
    "month = int(input()) # Enter a month\n",
    "days = days_in_month(year, month)\n",
    "print(days)"
   ]
  },
  {
   "cell_type": "markdown",
   "id": "b1dfe777",
   "metadata": {},
   "source": [
    "#### Angela's Solution:"
   ]
  },
  {
   "cell_type": "code",
   "execution_count": 24,
   "id": "98d6b0ec",
   "metadata": {},
   "outputs": [
    {
     "name": "stdout",
     "output_type": "stream",
     "text": [
      "2023\n",
      "12\n",
      "31\n"
     ]
    }
   ],
   "source": [
    "def is_leap(year):\n",
    "    if year % 4 == 0:\n",
    "        if year % 100 == 0:\n",
    "            if year % 400 == 0:\n",
    "                return True\n",
    "            else:\n",
    "                return False\n",
    "        else:\n",
    "            return True\n",
    "    else:\n",
    "        return False\n",
    "    \n",
    "# TODO: Add more code here 👇\n",
    "def days_in_month(year, month):\n",
    "    month_days = [31, 28, 31, 30, 31, 30, 31, 31, 30, 31, 30, 31] \n",
    "    if month == 2 and is_leap(year):\n",
    "        return 29\n",
    "    else:\n",
    "        return month_days[month-1]\n",
    "\n",
    "#🚨 Do NOT change any of the code below \n",
    "year = int(input()) # Enter a year\n",
    "month = int(input()) # Enter a month\n",
    "days = days_in_month(year, month)\n",
    "print(days)"
   ]
  }
 ],
 "metadata": {
  "kernelspec": {
   "display_name": "Python 3 (ipykernel)",
   "language": "python",
   "name": "python3"
  },
  "language_info": {
   "codemirror_mode": {
    "name": "ipython",
    "version": 3
   },
   "file_extension": ".py",
   "mimetype": "text/x-python",
   "name": "python",
   "nbconvert_exporter": "python",
   "pygments_lexer": "ipython3",
   "version": "3.9.18"
  }
 },
 "nbformat": 4,
 "nbformat_minor": 5
}
