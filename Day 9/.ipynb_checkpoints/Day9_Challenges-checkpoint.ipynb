{
 "cells": [
  {
   "cell_type": "markdown",
   "id": "ec3b7bd6",
   "metadata": {},
   "source": [
    "# 100 Days of Coding Challenges"
   ]
  },
  {
   "cell_type": "markdown",
   "id": "13e2a228",
   "metadata": {},
   "source": [
    "## Day 9"
   ]
  },
  {
   "cell_type": "markdown",
   "id": "8544d74f",
   "metadata": {},
   "source": [
    "### Exercise 1 - Grading Program"
   ]
  },
  {
   "cell_type": "code",
   "execution_count": 16,
   "id": "1945261a",
   "metadata": {},
   "outputs": [
    {
     "name": "stdout",
     "output_type": "stream",
     "text": [
      "{'Harry': 'Exceeds Expectations', 'Ron': 'Acceptable', 'Hermione': 'Outstanding', 'Draco': 'Acceptable', 'Neville': 'Fail'}\n"
     ]
    }
   ],
   "source": [
    "#List with student scores.\n",
    "student_scores = {\n",
    "  \"Harry\": 81,\n",
    "  \"Ron\": 78,\n",
    "  \"Hermione\": 99, \n",
    "  \"Draco\": 74,\n",
    "  \"Neville\": 62,\n",
    "}\n",
    "\n",
    "#Create an empty dictionary called student_grades.\n",
    "student_grades = {}\n",
    "\n",
    "#Create loop to assign student grade according to score and store it in student_scores dictionary.\n",
    "for student in student_scores:\n",
    "    if 90 < student_scores[student] <= 100:\n",
    "        student_grades[student] = \"Outstanding\"\n",
    "    elif 80 < student_scores[student] <= 90:\n",
    "        student_grades[student] = \"Exceeds Expectations\"\n",
    "    elif 70 < student_scores[student] <= 80:\n",
    "        student_grades[student] = \"Acceptable\"\n",
    "    elif student_scores[student] <= 70:\n",
    "        student_grades[student] = \"Fail\"\n",
    "\n",
    "print(student_grades)"
   ]
  },
  {
   "cell_type": "markdown",
   "id": "f9c29933",
   "metadata": {},
   "source": [
    "### Exercise 2 - Dictionary in List"
   ]
  },
  {
   "cell_type": "code",
   "execution_count": 8,
   "id": "c517aab0",
   "metadata": {},
   "outputs": [
    {
     "name": "stdout",
     "output_type": "stream",
     "text": [
      "Enter the name of the country you visited:\n",
      "Spain\n",
      "Enter the number of times you visted that country:\n",
      "7\n",
      "Entered the cities you visited, each separated by a comma:\n",
      "Madrid, Barcelona, Bilbao, Sevilla\n",
      "\n",
      "...\n",
      "\n",
      "I've been to Spain 7 times.\n",
      "My favourite city was Madrid.\n"
     ]
    }
   ],
   "source": [
    "#Input data\n",
    "visited_country = input(\"Enter the name of the country you visited:\\n\") # Add country name\n",
    "number_visits = int(input(\"Enter the number of times you visted that country:\\n\")) # Number of visits\n",
    "#visited_cities = eval(input(\"Entered the cities you visited, separated by a comma:\\n\")) # create list from formatted string\n",
    "visited_cities = input(\"Entered the cities you visited, each separated by a comma:\\n\")\n",
    "visited_cities = visited_cities.split(\",\")\n",
    "\n",
    "#Existing travel log dictionary\n",
    "travel_log = [\n",
    "  {\n",
    "    \"country\": \"France\",\n",
    "    \"visits\": 12,\n",
    "    \"cities\": [\"Paris\", \"Lille\", \"Dijon\"]\n",
    "  },\n",
    "  {\n",
    "    \"country\": \"Germany\",\n",
    "    \"visits\": 5,\n",
    "    \"cities\": [\"Berlin\", \"Hamburg\", \"Stuttgart\"]\n",
    "  },\n",
    "]\n",
    "\n",
    "#Create a function that will add new country to the travel log\n",
    "\n",
    "def add_new_country(country, visits, list_of_cities):\n",
    "    new_country_dic = {\"country\": country,\n",
    "                    \"visits\": visits,\n",
    "                    \"cities\": list_of_cities}\n",
    "    travel_log.append(new_country_dic)\n",
    "  \n",
    "\n",
    "#Run function and print statements to validate it works\n",
    "add_new_country(visited_country, number_visits, visited_cities)\n",
    "print(\"\\n...\\n\")\n",
    "print(f\"I've been to {travel_log[2]['country']} {travel_log[2]['visits']} times.\")\n",
    "print(f\"My favourite city was {travel_log[2]['cities'][0]}.\")"
   ]
  },
  {
   "cell_type": "markdown",
   "id": "69634fe5",
   "metadata": {},
   "source": [
    "### Exercise 3 (Final Project) - The Secret Auction Program"
   ]
  },
  {
   "cell_type": "markdown",
   "id": "15104e1a",
   "metadata": {},
   "source": [
    "#### My solution:"
   ]
  },
  {
   "cell_type": "code",
   "execution_count": 9,
   "id": "87f1791e",
   "metadata": {},
   "outputs": [
    {
     "name": "stdout",
     "output_type": "stream",
     "text": [
      "\n",
      "                         ___________\n",
      "                         \\         /\n",
      "                          )_______(\n",
      "                          |\"\"\"\"\"\"\"|_.-._,.---------.,_.-._\n",
      "                          |       | | |               | | ''-.\n",
      "                          |       |_| |_             _| |_..-'\n",
      "                          |_______| '-' `'---------'` '-'\n",
      "                          )\"\"\"\"\"\"\"(\n",
      "                         /_________\\\n",
      "                       .-------------.\n",
      "                      /_______________\\\n",
      "\n",
      "Welcome to the Secret Auction Program!\n",
      "\n",
      "\n",
      "What is your name?\n",
      "Young\n",
      "What is your bid?\n",
      " $65\n",
      "Are there any other bidders? Type \"Yes\" or \"No\".\n",
      "yes\n",
      "What is your name?\n",
      "daniel\n",
      "What is your bid?\n",
      " $777\n",
      "Are there any other bidders? Type \"Yes\" or \"No\".\n",
      "no\n",
      "The winner is Daniel with a bid of $777.0.\n"
     ]
    }
   ],
   "source": [
    "#Import and print logo and welcome message\n",
    "from art import logo\n",
    "#from replit import clear\n",
    "print(logo)\n",
    "print('Welcome to the Secret Auction Program!')\n",
    "print('\\n')\n",
    "\n",
    "#Create exit variable to exit loop, and bidders empty dictionary to store key:values\n",
    "exit = False\n",
    "bidders = {}\n",
    "\n",
    "while not exit:\n",
    "    \n",
    "    #Create inputs for name and bid (only accepting valid values)\n",
    "    try:\n",
    "        name = input('What is your name?\\n').capitalize()\n",
    "        bid = float(input('What is your bid?\\n $'))\n",
    "    except:\n",
    "        print('Please enter a valid number.')\n",
    "        continue\n",
    "    \n",
    "    #Append items to dictionary\n",
    "    bidders[name] = bid        \n",
    "    \n",
    "    #Validate if there are other bidders and define if we are exiting the loop\n",
    "    other_bidders = input('Are there any other bidders? Type \"Yes\" or \"No\".\\n').lower()\n",
    "    if other_bidders == 'yes':\n",
    "        #clear() <--- Substitute None for clear() on Consoles that allow clear (Such as Replit)\n",
    "        None\n",
    "    else:\n",
    "        exit = True\n",
    "\n",
    "#Look for highest bid and winner by looping through the values introduced into the dictionary\n",
    "highest_bid = 0\n",
    "winner = ''\n",
    "for bidder in bidders:\n",
    "    if bidders[bidder] >= highest_bid:\n",
    "        highest_bid = bidders[bidder]   \n",
    "        winner = bidder\n",
    "        \n",
    "#Print the result\n",
    "print(f'The winner is {winner} with a bid of ${highest_bid}.')"
   ]
  },
  {
   "cell_type": "markdown",
   "id": "0b08e8f7",
   "metadata": {},
   "source": [
    "#### Angela's Solution:"
   ]
  },
  {
   "cell_type": "code",
   "execution_count": 12,
   "id": "a25c248f",
   "metadata": {},
   "outputs": [
    {
     "name": "stdout",
     "output_type": "stream",
     "text": [
      "\n",
      "                         ___________\n",
      "                         \\         /\n",
      "                          )_______(\n",
      "                          |\"\"\"\"\"\"\"|_.-._,.---------.,_.-._\n",
      "                          |       | | |               | | ''-.\n",
      "                          |       |_| |_             _| |_..-'\n",
      "                          |_______| '-' `'---------'` '-'\n",
      "                          )\"\"\"\"\"\"\"(\n",
      "                         /_________\\\n",
      "                       .-------------.\n",
      "                      /_______________\\\n",
      "\n",
      "What is your name?: Young\n",
      "What is your bid?: $65\n",
      "Are there any other bidders? Type 'yes or 'no'.\n",
      "yes\n",
      "What is your name?: Daniel\n",
      "What is your bid?: $777\n",
      "Are there any other bidders? Type 'yes or 'no'.\n",
      "no\n",
      "The winner is Daniel with a bid of $777\n"
     ]
    },
    {
     "data": {
      "text/plain": [
       "\"\\nFAQ: My console doesn't clear()\\n\\nThis will happen if you’re using an IDE other than replit. \\nI’ll cover how to use PyCharm in Day 15. That said, you can write your own clear() function or configure your IDE like so: \\n\\nhttps://www.udemy.com/course/100-days-of-code/learn/lecture/19279420#questions/16084076\\n\\n\""
      ]
     },
     "execution_count": 12,
     "metadata": {},
     "output_type": "execute_result"
    }
   ],
   "source": [
    "from art import logo\n",
    "print(logo)\n",
    "\n",
    "bids = {}\n",
    "bidding_finished = False\n",
    "\n",
    "def find_highest_bidder(bidding_record):\n",
    "    highest_bid = 0\n",
    "    winner = \"\"\n",
    "  # bidding_record = {\"Angela\": 123, \"James\": 321}\n",
    "    for bidder in bidding_record:\n",
    "        bid_amount = bidding_record[bidder]\n",
    "    if bid_amount > highest_bid: \n",
    "        highest_bid = bid_amount\n",
    "        winner = bidder\n",
    "    print(f\"The winner is {winner} with a bid of ${highest_bid}\")\n",
    "\n",
    "while not bidding_finished:\n",
    "    name = input(\"What is your name?: \")\n",
    "    price = int(input(\"What is your bid?: $\"))\n",
    "    bids[name] = price\n",
    "    should_continue = input(\"Are there any other bidders? Type 'yes or 'no'.\\n\")\n",
    "    if should_continue == \"no\":\n",
    "        bidding_finished = True\n",
    "        find_highest_bidder(bids)\n",
    "    elif should_continue == \"yes\":\n",
    "        #clear()\n",
    "        None\n",
    "  \n",
    "\n",
    "\"\"\"\n",
    "FAQ: My console doesn't clear()\n",
    "\n",
    "This will happen if you’re using an IDE other than replit. \n",
    "I’ll cover how to use PyCharm in Day 15. That said, you can write your own clear() function or configure your IDE like so: \n",
    "\n",
    "https://www.udemy.com/course/100-days-of-code/learn/lecture/19279420#questions/16084076\n",
    "\n",
    "\"\"\""
   ]
  },
  {
   "cell_type": "code",
   "execution_count": null,
   "id": "9c41cab2",
   "metadata": {},
   "outputs": [],
   "source": []
  }
 ],
 "metadata": {
  "kernelspec": {
   "display_name": "Python 3 (ipykernel)",
   "language": "python",
   "name": "python3"
  },
  "language_info": {
   "codemirror_mode": {
    "name": "ipython",
    "version": 3
   },
   "file_extension": ".py",
   "mimetype": "text/x-python",
   "name": "python",
   "nbconvert_exporter": "python",
   "pygments_lexer": "ipython3",
   "version": "3.9.12"
  }
 },
 "nbformat": 4,
 "nbformat_minor": 5
}
