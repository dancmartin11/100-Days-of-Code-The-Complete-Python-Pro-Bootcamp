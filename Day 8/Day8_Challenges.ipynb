{
 "cells": [
  {
   "cell_type": "markdown",
   "id": "553947bf",
   "metadata": {},
   "source": [
    "# 100 Days of Coding Challenges"
   ]
  },
  {
   "cell_type": "markdown",
   "id": "ea82de0f",
   "metadata": {},
   "source": [
    "## Day 8"
   ]
  },
  {
   "cell_type": "markdown",
   "id": "cbdcbe69",
   "metadata": {},
   "source": [
    "### Exercise 1 - Paint Area Calculator"
   ]
  },
  {
   "cell_type": "code",
   "execution_count": 3,
   "id": "6bc96f3b",
   "metadata": {},
   "outputs": [
    {
     "name": "stdout",
     "output_type": "stream",
     "text": [
      "Height of wall: 7\n",
      "Width of wall: 13\n",
      "You'll need 19 cans of paint.\n"
     ]
    }
   ],
   "source": [
    "# Define a function called paint_calc() so that the code below works.   \n",
    "import math\n",
    "\n",
    "def paint_calc(height, width, cover):\n",
    "    \n",
    "    num_cans = (height * width) / cover\n",
    "    num_cans = math.ceil(num_cans)\n",
    "\n",
    "    print(f\"You'll need {num_cans} cans of paint.\")\n",
    "\n",
    "#Providing arguments and running the function\n",
    "test_h = int(input(\"Height of wall: \"))\n",
    "test_w = int(input(\"Width of wall: \"))\n",
    "coverage = 5\n",
    "paint_calc(height=test_h, width=test_w, cover=coverage)"
   ]
  },
  {
   "cell_type": "markdown",
   "id": "939c3cda",
   "metadata": {},
   "source": [
    "### Exercise 2 - Prime Number Checker"
   ]
  },
  {
   "cell_type": "code",
   "execution_count": 26,
   "id": "9c284906",
   "metadata": {},
   "outputs": [
    {
     "name": "stdout",
     "output_type": "stream",
     "text": [
      "Check this number: 1\n",
      "It's a prime number.\n"
     ]
    }
   ],
   "source": [
    "#Define the prime checker function\n",
    "def prime_checker(number):\n",
    "    is_prime = True\n",
    "    for i in range(2,number):\n",
    "        if number % i == 0:\n",
    "            is_prime = False\n",
    "            \n",
    "#Some people consider that 1 is not a prime number       \n",
    "    #if number == 1:\n",
    "        #is_prime = False\n",
    "        \n",
    "    if is_prime == True:\n",
    "        print(\"It's a prime number.\")\n",
    "    elif is_prime == False:\n",
    "        print(\"It's not a prime number.\")\n",
    "            \n",
    "#Input argument and run the function\n",
    "n = int(input(\"Check this number: \"))\n",
    "prime_checker(number=n)"
   ]
  },
  {
   "cell_type": "markdown",
   "id": "79383579",
   "metadata": {},
   "source": [
    "### Exercise 3 - Caesar Cipher Part 1: Encryption"
   ]
  },
  {
   "cell_type": "code",
   "execution_count": 6,
   "id": "6263c090",
   "metadata": {},
   "outputs": [
    {
     "name": "stdout",
     "output_type": "stream",
     "text": [
      "Type 'encode' to encrypt, type 'decode' to decrypt:\n",
      "encode\n",
      "Type your message:\n",
      "hello\n",
      "Type the shift number:\n",
      "5\n",
      "mjqqt\n"
     ]
    }
   ],
   "source": [
    "#Create list with twice the alphabet (twice to avoid issues when shifting letters at the end of the list)\n",
    "alphabet = ['a', 'b', 'c', 'd', 'e', 'f', 'g', 'h', 'i', 'j', 'k', 'l', 'm', 'n', 'o', 'p', 'q', 'r', 's', 't', 'u', 'v', 'w', 'x', 'y', 'z','a', 'b', 'c', 'd', 'e', 'f', 'g', 'h', 'i', 'j', 'k', 'l', 'm', 'n', 'o', 'p', 'q', 'r', 's', 't', 'u', 'v', 'w', 'x', 'y', 'z']\n",
    "\n",
    "#Create the inputs for the users.\n",
    "direction = input(\"Type 'encode' to encrypt, type 'decode' to decrypt:\\n\")\n",
    "text = input(\"Type your message:\\n\").lower()\n",
    "shift = int(input(\"Type the shift number:\\n\"))\n",
    "\n",
    "#Create a function called 'encrypt' that takes the 'text' and 'shift' as inputs.\n",
    "def encrypt(plain_text, shift_amount):\n",
    "    text_list = list(plain_text)\n",
    "    encrypted_list = []\n",
    "    encrypted = ''\n",
    "    #Iterate over each letter and shift its position to encode the message, appending all letters into a list.\n",
    "    for letter in text_list:\n",
    "        position = alphabet.index(letter)\n",
    "        encrypted_position = position + shift_amount\n",
    "        encrypted_list.append(alphabet[encrypted_position])\n",
    "    #Add each character into the empty string to generate the encrypted word.\n",
    "    for letter in encrypted_list:\n",
    "        encrypted += letter\n",
    "        \n",
    "    print(encrypted)\n",
    "\n",
    "#Call the encrypt function and pass in the user inputs.\n",
    "encrypt(plain_text = text, shift_amount = shift)"
   ]
  },
  {
   "cell_type": "markdown",
   "id": "3e94e20a",
   "metadata": {},
   "source": [
    "### Exercise 4 - Caesar Cipher Part 2: Decrypt"
   ]
  },
  {
   "cell_type": "code",
   "execution_count": 5,
   "id": "1312f4f9",
   "metadata": {
    "scrolled": true
   },
   "outputs": [
    {
     "name": "stdout",
     "output_type": "stream",
     "text": [
      "Type 'encode' to encrypt, type 'decode' to decrypt:\n",
      "decode\n",
      "Type your message:\n",
      "mjqqt\n",
      "Type the shift number:\n",
      "5\n",
      "The decoded text is hello.\n"
     ]
    }
   ],
   "source": [
    "#Create list with twice the alphabet (twice to avoid issues when shifting letters at the end of the list)\n",
    "alphabet = ['a', 'b', 'c', 'd', 'e', 'f', 'g', 'h', 'i', 'j', 'k', 'l', 'm', 'n', 'o', 'p', 'q', 'r', 's', 't', 'u', 'v', 'w', 'x', 'y', 'z','a', 'b', 'c', 'd', 'e', 'f', 'g', 'h', 'i', 'j', 'k', 'l', 'm', 'n', 'o', 'p', 'q', 'r', 's', 't', 'u', 'v', 'w', 'x', 'y', 'z']\n",
    "\n",
    "#Create the inputs for the users.\n",
    "direction = input(\"Type 'encode' to encrypt, type 'decode' to decrypt:\\n\")\n",
    "text = input(\"Type your message:\\n\").lower()\n",
    "shift = int(input(\"Type the shift number:\\n\"))\n",
    "\n",
    "#Create a function called 'encrypt' that takes the 'text' and 'shift' as inputs.\n",
    "def encrypt(plain_text, shift_amount):\n",
    "    text_list = list(plain_text)\n",
    "    encrypted_list = []\n",
    "    encrypted = ''\n",
    "    #Iterate over each letter and shift its position to encode the message, appending all letters into a list.\n",
    "    for letter in text_list:\n",
    "        position = alphabet.index(letter)\n",
    "        encrypted_position = position + shift_amount\n",
    "        encrypted_list.append(alphabet[encrypted_position])\n",
    "    #Add each character into the empty string to generate the encrypted word.\n",
    "    for letter in encrypted_list:\n",
    "        encrypted += letter\n",
    "    print(f\"The encoded text is {encrypted}.\")\n",
    "\n",
    "#Create a different function called 'decrypt' that takes the 'text' and 'shift' as inputs.\n",
    "'''\n",
    "Inside the 'decrypt' function, shift each letter of the 'text' *backwards* in the alphabet\n",
    "    by the shift amount and print the decrypted text.\n",
    "'''\n",
    "def decrypt(encrypted_text, shift_amount):\n",
    "    text_list = list(encrypted_text)\n",
    "    decrypted_list = []\n",
    "    decrypted = ''\n",
    "    #Iterate over each letter and shift its position to encode the message, appending all letters into a list.\n",
    "    for letter in text_list:\n",
    "        position = alphabet.index(letter)\n",
    "        decrypted_position = position - shift_amount\n",
    "        decrypted_list.append(alphabet[decrypted_position])\n",
    "    #Add each character into the empty string to generate the encrypted word.\n",
    "    for letter in decrypted_list:\n",
    "        decrypted += letter\n",
    "    print(f\"The decoded text is {decrypted}.\")\n",
    "'''\n",
    "Check if the user wanted to encrypt or decrypt the message by checking the 'direction' variable.\n",
    "    Then call the correct function based on that 'drection' variable.\n",
    "    You should be able to test the code to encrypt *AND* decrypt a message.\n",
    "'''\n",
    "if direction == 'encode':\n",
    "    encrypt(plain_text = text, shift_amount = shift)\n",
    "elif direction == 'decode':\n",
    "    decrypt(encrypted_text = text, shift_amount = shift)"
   ]
  },
  {
   "cell_type": "markdown",
   "id": "42f86981",
   "metadata": {},
   "source": [
    "### Exercise 5 - Caesar Cipher Part 3: Reorganising our Code"
   ]
  },
  {
   "cell_type": "markdown",
   "id": "4eb7ea1e",
   "metadata": {},
   "source": [
    "#### My Solution"
   ]
  },
  {
   "cell_type": "code",
   "execution_count": null,
   "id": "3a7be02f",
   "metadata": {},
   "outputs": [],
   "source": [
    "#Create list with twice the alphabet (twice to avoid issues when shifting letters at the end of the list)\n",
    "alphabet = ['a', 'b', 'c', 'd', 'e', 'f', 'g', 'h', 'i', 'j', 'k', 'l', 'm', 'n', 'o', 'p', 'q', 'r', 's', 't', 'u', 'v', 'w', 'x', 'y', 'z','a', 'b', 'c', 'd', 'e', 'f', 'g', 'h', 'i', 'j', 'k', 'l', 'm', 'n', 'o', 'p', 'q', 'r', 's', 't', 'u', 'v', 'w', 'x', 'y', 'z']\n",
    "\n",
    "#Create the inputs for the users.\n",
    "direction = input(\"Type 'encode' to encrypt, type 'decode' to decrypt:\\n\")\n",
    "text = input(\"Type your message:\\n\").lower()\n",
    "shift = int(input(\"Type the shift number:\\n\"))\n",
    "\n",
    "#Create caesar function to encode or decode previous text input\n",
    "def caesar(user_direction, user_text, shift_amount):\n",
    "    user_text_list = list(user_text) #Convert text to list\n",
    "    output_text_list = [] \n",
    "    output_text = '' #Result will be stored in this variable\n",
    "    \n",
    "    #Encrypt\n",
    "    if user_direction == 'encode':\n",
    "        for letter in user_text_list:\n",
    "            position = alphabet.index(letter)\n",
    "            output_position = position + shift_amount\n",
    "            output_text_list.append(alphabet[output_position])\n",
    "        for letter in output_text_list:\n",
    "            output_text += letter\n",
    "        print(f\"The encoded text is {output_text}.\")\n",
    "    #Decrypt\n",
    "    elif user_direction == 'decode':\n",
    "        for letter in user_text_list:\n",
    "            position = alphabet.index(letter)\n",
    "            output_position = position - shift_amount\n",
    "            output_text_list.append(alphabet[output_position])\n",
    "        for letter in output_text_list:\n",
    "            output_text += letter\n",
    "        print(f\"The decoded text is {output_text}.\")\n",
    "\n",
    "        \n",
    "#Calling the caesar() function\n",
    "caesar(direction, text, shift)"
   ]
  },
  {
   "cell_type": "markdown",
   "id": "b35d2995",
   "metadata": {},
   "source": [
    "#### Angela's Solution"
   ]
  },
  {
   "cell_type": "code",
   "execution_count": null,
   "id": "85ae849e",
   "metadata": {},
   "outputs": [],
   "source": [
    "alphabet = ['a', 'b', 'c', 'd', 'e', 'f', 'g', 'h', 'i', 'j', 'k', 'l', 'm', 'n', 'o', 'p', 'q', 'r', 's', 't', 'u', 'v', 'w', 'x', 'y', 'z', 'a', 'b', 'c', 'd', 'e', 'f', 'g', 'h', 'i', 'j', 'k', 'l', 'm', 'n', 'o', 'p', 'q', 'r', 's', 't', 'u', 'v', 'w', 'x', 'y', 'z']\n",
    "\n",
    "direction = input(\"Type 'encode' to encrypt, type 'decode' to decrypt:\\n\")\n",
    "text = input(\"Type your message:\\n\").lower()\n",
    "shift = int(input(\"Type the shift number:\\n\"))\n",
    "\n",
    "#TODO-1: Combine the encrypt() and decrypt() functions into a single function called caesar(). \n",
    "\n",
    "def caesar(start_text, shift_amount, cipher_direction):\n",
    "    end_text = \"\"\n",
    "    if cipher_direction == \"decode\":\n",
    "        shift_amount *= -1\n",
    "    for letter in start_text:\n",
    "        position = alphabet.index(letter)\n",
    "        new_position = position + shift_amount\n",
    "        end_text += alphabet[new_position]\n",
    "    print(f\"Here's the {direction}d result: {end_text}.\")\n",
    "\n",
    "\n",
    "#TODO-2: Call the caesar() function, passing over the 'text', 'shift' and 'direction' values.\n",
    "caesar(start_text=text, shift_amount=shift, cipher_direction=direction)"
   ]
  },
  {
   "cell_type": "markdown",
   "id": "af51e02d",
   "metadata": {},
   "source": [
    "### Exercise 6 - Caesar Cipher Part 4: User Experience Improvements and Final Touches"
   ]
  },
  {
   "cell_type": "markdown",
   "id": "dbfa6090",
   "metadata": {},
   "source": [
    "#### My Solution"
   ]
  },
  {
   "cell_type": "code",
   "execution_count": 3,
   "id": "fd974a3c",
   "metadata": {},
   "outputs": [
    {
     "name": "stdout",
     "output_type": "stream",
     "text": [
      "           \n",
      " ,adPPYba, ,adPPYYba,  ,adPPYba, ,adPPYba, ,adPPYYba, 8b,dPPYba,  \n",
      "a8\"     \"\" \"\"     `Y8 a8P_____88 I8[    \"\" \"\"     `Y8 88P'   \"Y8  \n",
      "8b         ,adPPPPP88 8PP\"  `\"Y8ba,  ,adPPPPP88 88          \n",
      "\"8a,   ,aa 88,    ,88 \"8b,   ,aa aa    ]8I 88,    ,88 88          \n",
      " `\"Ybbd8\"' `\"8bbdP\"Y8  `\"Ybbd8\"' `\"YbbdP\"' `\"8bbdP\"Y8 88   \n",
      "            88             88                                 \n",
      "           \"\"             88                                 \n",
      "                          88                                 \n",
      " ,adPPYba, 88 8b,dPPYba,  88,dPPYba,   ,adPPYba, 8b,dPPYba,  \n",
      "a8\"     \"\" 88 88P'    \"8a 88P'    \"8a a8P_____88 88P'   \"Y8  \n",
      "8b         88 88       d8 88       88 8PP\" 88          \n",
      "\"8a,   ,aa 88 88b,   ,a8\" 88       88 \"8b,   ,aa 88          \n",
      " `\"Ybbd8\"' 88 88`YbbdP\"'  88       88  `\"Ybbd8\"' 88          \n",
      "              88                                             \n",
      "              88           \n",
      "\n",
      "Type 'encode' to encrypt, type 'decode' to decrypt:\n",
      "encode\n",
      "Type your message:\n",
      "hello12234motherfuckers\n",
      "Type the shift number:\n",
      "5\n",
      "Here's the encoded result:\n",
      " mjqqt12234rtymjwkzhpjwx\n",
      "Type 'yes' if you want to go again. Otherwise type 'no'.\n",
      "yes\n",
      "Type 'encode' to encrypt, type 'decode' to decrypt:\n",
      "decode\n",
      "Type your message:\n",
      "mjqqt12234rtymjwkzhpjwx\n",
      "Type the shift number:\n",
      "5\n",
      "Here's the decoded result:\n",
      " hello12234motherfuckers\n",
      "Type 'yes' if you want to go again. Otherwise type 'no'.\n",
      "yes\n",
      "Type 'encode' to encrypt, type 'decode' to decrypt:\n",
      "encode\n",
      "Type your message:\n",
      "aaa\n",
      "Type the shift number:\n",
      "26\n",
      "Here's the encoded result:\n",
      " aaa\n",
      "Type 'yes' if you want to go again. Otherwise type 'no'.\n",
      "yes\n",
      "Type 'encode' to encrypt, type 'decode' to decrypt:\n",
      "encode\n",
      "Type your message:\n",
      "aaa\n",
      "Type the shift number:\n",
      "25\n",
      "Here's the encoded result:\n",
      " zzz\n",
      "Type 'yes' if you want to go again. Otherwise type 'no'.\n",
      "no\n",
      "Goodbye!\n"
     ]
    }
   ],
   "source": [
    "#Create list with twice the alphabet (twice to avoid issues when shifting letters at the end of the list)\n",
    "alphabet = ['a', 'b', 'c', 'd', 'e', 'f', 'g', 'h', 'i', 'j', 'k', 'l', 'm', 'n', 'o', 'p', 'q', 'r', 's', 't', 'u', 'v', 'w', 'x', 'y', 'z','a', 'b', 'c', 'd', 'e', 'f', 'g', 'h', 'i', 'j', 'k', 'l', 'm', 'n', 'o', 'p', 'q', 'r', 's', 't', 'u', 'v', 'w', 'x', 'y', 'z']\n",
    "\n",
    "#Create caesar function to encode or decode previous text input\n",
    "def caesar(user_direction, user_text, shift_amount):\n",
    "    user_char_list = list(user_text) #Convert text to list\n",
    "    output_text_list = [] \n",
    "    output_text = '' #Result will be stored in this variable\n",
    "    \n",
    "    #Encrypt\n",
    "    if user_direction == 'encode':\n",
    "        for character in user_char_list:\n",
    "            if character not in alphabet:\n",
    "                output_text_list.append(character)\n",
    "            else:\n",
    "                position = alphabet.index(character)\n",
    "                output_position = position + shift_amount\n",
    "                output_text_list.append(alphabet[output_position])\n",
    "        for character in output_text_list:\n",
    "            output_text += character\n",
    "        print(f\"Here's the encoded result:\\n {output_text}\")\n",
    "    #Decrypt\n",
    "    elif user_direction == 'decode':\n",
    "        for character in user_char_list:\n",
    "            if character not in alphabet:\n",
    "                output_text_list.append(character)\n",
    "            else:\n",
    "                position = alphabet.index(character)\n",
    "                output_position = position - shift_amount\n",
    "                output_text_list.append(alphabet[output_position])\n",
    "        for character in output_text_list:\n",
    "            output_text += character\n",
    "        print(f\"Here's the decoded result:\\n {output_text}\")\n",
    "        \n",
    "#Importing ASCI art that will display when program is run\n",
    "from art import logo\n",
    "print(logo)\n",
    "\n",
    "#Create a cycle so the user can encrypt and decrypt as many times as they want, until they hit the option 'no'\n",
    "\n",
    "exit = False\n",
    "while not exit:\n",
    "\n",
    "    #Create the inputs for the users.\n",
    "    direction = input(\"Type 'encode' to encrypt, type 'decode' to decrypt:\\n\").lower()\n",
    "    if direction == \"encode\" or direction == 'decode':\n",
    "        text = input(\"Type your message:\\n\").lower()\n",
    "        shift = (int(input(\"Type the shift number:\\n\"))) % 26 #Get remainder in case user sets out of range shift number\n",
    "        #Calling the caesar() function\n",
    "        caesar(direction, text, shift)    \n",
    "    #Create an option to display if user enters invalid direction\n",
    "    else:\n",
    "        print(\"That's not an option. Remember to type 'encode' to encrypt a message, or 'decode' to decrypt it.\\n\")\n",
    "    \n",
    "    restart = input(\"Type 'yes' if you want to go again. Otherwise type 'no'.\\n\").lower()\n",
    "    if restart == 'no':\n",
    "        print('Goodbye!')\n",
    "        exit = True"
   ]
  },
  {
   "cell_type": "markdown",
   "id": "f646a1a4",
   "metadata": {},
   "source": [
    "#### Angela's Solution (Mine's better as adds the direction correction)"
   ]
  },
  {
   "cell_type": "code",
   "execution_count": 4,
   "id": "1fc1b0dc",
   "metadata": {},
   "outputs": [
    {
     "name": "stdout",
     "output_type": "stream",
     "text": [
      "           \n",
      " ,adPPYba, ,adPPYYba,  ,adPPYba, ,adPPYba, ,adPPYYba, 8b,dPPYba,  \n",
      "a8\"     \"\" \"\"     `Y8 a8P_____88 I8[    \"\" \"\"     `Y8 88P'   \"Y8  \n",
      "8b         ,adPPPPP88 8PP\"  `\"Y8ba,  ,adPPPPP88 88          \n",
      "\"8a,   ,aa 88,    ,88 \"8b,   ,aa aa    ]8I 88,    ,88 88          \n",
      " `\"Ybbd8\"' `\"8bbdP\"Y8  `\"Ybbd8\"' `\"YbbdP\"' `\"8bbdP\"Y8 88   \n",
      "            88             88                                 \n",
      "           \"\"             88                                 \n",
      "                          88                                 \n",
      " ,adPPYba, 88 8b,dPPYba,  88,dPPYba,   ,adPPYba, 8b,dPPYba,  \n",
      "a8\"     \"\" 88 88P'    \"8a 88P'    \"8a a8P_____88 88P'   \"Y8  \n",
      "8b         88 88       d8 88       88 8PP\" 88          \n",
      "\"8a,   ,aa 88 88b,   ,a8\" 88       88 \"8b,   ,aa 88          \n",
      " `\"Ybbd8\"' 88 88`YbbdP\"'  88       88  `\"Ybbd8\"' 88          \n",
      "              88                                             \n",
      "              88           \n",
      "\n",
      "Type 'encode' to encrypt, type 'decode' to decrypt:\n",
      "encode\n",
      "Type your message:\n",
      "hello\n",
      "Type the shift number:\n",
      "5\n",
      "Here's the encoded result: mjqqt\n",
      "Type 'yes' if you want to go again. Otherwise type 'no'.\n",
      "no\n",
      "Goodbye\n"
     ]
    }
   ],
   "source": [
    "alphabet = ['a', 'b', 'c', 'd', 'e', 'f', 'g', 'h', 'i', 'j', 'k', 'l', 'm', 'n', 'o', 'p', 'q', 'r', 's', 't', 'u', 'v', 'w', 'x', 'y', 'z', 'a', 'b', 'c', 'd', 'e', 'f', 'g', 'h', 'i', 'j', 'k', 'l', 'm', 'n', 'o', 'p', 'q', 'r', 's', 't', 'u', 'v', 'w', 'x', 'y', 'z']\n",
    "\n",
    "def caesar(start_text, shift_amount, cipher_direction):\n",
    "    end_text = \"\"\n",
    "    if cipher_direction == \"decode\":\n",
    "        shift_amount *= -1\n",
    "    for char in start_text:\n",
    "    #TODO-3: What happens if the user enters a number/symbol/space?\n",
    "    #Can you fix the code to keep the number/symbol/space when the text is encoded/decoded?\n",
    "    #e.g. start_text = \"meet me at 3\"\n",
    "    #end_text = \"•••• •• •• 3\"\n",
    "        if char in alphabet:\n",
    "            position = alphabet.index(char)\n",
    "            new_position = position + shift_amount\n",
    "            end_text += alphabet[new_position]\n",
    "        else:\n",
    "            end_text += char\n",
    "    print(f\"Here's the {cipher_direction}d result: {end_text}\")\n",
    "\n",
    "#TODO-1: Import and print the logo from art.py when the program starts.\n",
    "from art import logo\n",
    "print(logo)\n",
    "\n",
    "#TODO-4: Can you figure out a way to ask the user if they want to restart the cipher program?\n",
    "#e.g. Type 'yes' if you want to go again. Otherwise type 'no'.\n",
    "#If they type 'yes' then ask them for the direction/text/shift again and call the caesar() function again?\n",
    "#Hint: Try creating a while loop that continues to execute the program if the user types 'yes'.\n",
    "should_end = False\n",
    "while not should_end:\n",
    "\n",
    "    direction = input(\"Type 'encode' to encrypt, type 'decode' to decrypt:\\n\")\n",
    "    text = input(\"Type your message:\\n\").lower()\n",
    "    shift = int(input(\"Type the shift number:\\n\"))\n",
    "  #TODO-2: What if the user enters a shift that is greater than the number of letters in the alphabet?\n",
    "  #Try running the program and entering a shift number of 45.\n",
    "  #Add some code so that the program continues to work even if the user enters a shift number greater than 26. \n",
    "  #Hint: Think about how you can use the modulus (%).\n",
    "    shift = shift % 26\n",
    "\n",
    "    caesar(start_text=text, shift_amount=shift, cipher_direction=direction)\n",
    "\n",
    "    restart = input(\"Type 'yes' if you want to go again. Otherwise type 'no'.\\n\")\n",
    "    if restart == \"no\":\n",
    "        should_end = True\n",
    "        print(\"Goodbye\")"
   ]
  },
  {
   "cell_type": "code",
   "execution_count": null,
   "id": "e7d9fb1f",
   "metadata": {},
   "outputs": [],
   "source": []
  }
 ],
 "metadata": {
  "kernelspec": {
   "display_name": "Python 3 (ipykernel)",
   "language": "python",
   "name": "python3"
  },
  "language_info": {
   "codemirror_mode": {
    "name": "ipython",
    "version": 3
   },
   "file_extension": ".py",
   "mimetype": "text/x-python",
   "name": "python",
   "nbconvert_exporter": "python",
   "pygments_lexer": "ipython3",
   "version": "3.9.12"
  }
 },
 "nbformat": 4,
 "nbformat_minor": 5
}
