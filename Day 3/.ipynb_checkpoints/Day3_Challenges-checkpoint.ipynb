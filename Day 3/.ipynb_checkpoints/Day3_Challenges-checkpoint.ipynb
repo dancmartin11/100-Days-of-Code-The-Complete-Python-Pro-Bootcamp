{
 "cells": [
  {
   "cell_type": "markdown",
   "id": "553947bf",
   "metadata": {},
   "source": [
    "# 100 Days of Coding Challenges"
   ]
  },
  {
   "cell_type": "markdown",
   "id": "da1878c0",
   "metadata": {},
   "source": [
    "## Day 3"
   ]
  },
  {
   "cell_type": "markdown",
   "id": "4363ffb0",
   "metadata": {},
   "source": [
    "<hr>"
   ]
  },
  {
   "cell_type": "markdown",
   "id": "bde70dad",
   "metadata": {},
   "source": [
    "### Exercise 1 - Odd or Even"
   ]
  },
  {
   "cell_type": "code",
   "execution_count": 2,
   "id": "aec989ee",
   "metadata": {},
   "outputs": [
    {
     "name": "stdout",
     "output_type": "stream",
     "text": [
      "Which number do you want to check? 4\n",
      "This is an even number.\n"
     ]
    }
   ],
   "source": [
    "number = int(input(\"Which number do you want to check? \"))\n",
    "# 🚨 Don't change the code above 👆\n",
    "\n",
    "#Write your code below this line 👇\n",
    "\n",
    "modulo = number % 2\n",
    "\n",
    "if modulo == 0:\n",
    "    print('This is an even number.')\n",
    "else:\n",
    "    print('This is an odd number.')"
   ]
  },
  {
   "cell_type": "markdown",
   "id": "a39138d6",
   "metadata": {},
   "source": [
    "### Exercise 2 - BMI 2.0"
   ]
  },
  {
   "cell_type": "code",
   "execution_count": null,
   "id": "b300b421",
   "metadata": {},
   "outputs": [],
   "source": [
    "# 🚨 Don't change the code below 👇\n",
    "height = float(input(\"enter your height in m: \"))\n",
    "weight = float(input(\"enter your weight in kg: \"))\n",
    "# 🚨 Don't change the code above 👆\n",
    "\n",
    "#Write your code below this line 👇\n",
    "\n",
    "BMI = round(weight / (height**2))\n",
    "\n",
    "if BMI < 18.5:\n",
    "    print(f'Your BMI is {BMI}, you are underweight.')\n",
    "elif BMI > 18.5:\n",
    "    if BMI <= 25:\n",
    "        print(f'Your BMI is {BMI}, you have a normal weight.')\n",
    "    elif BMI <= 30:\n",
    "        print(f'Your BMI is {BMI}, you are slightly overweight.')\n",
    "    elif BMI <= 35:\n",
    "        print(f'Your BMI is {BMI}, you are obese.')\n",
    "    else:\n",
    "        print(f'Your BMI is {BMI}, you are clinically obese.')"
   ]
  },
  {
   "cell_type": "markdown",
   "id": "f956bc72",
   "metadata": {},
   "source": [
    "### Exercise 3 - Leap Year"
   ]
  },
  {
   "cell_type": "code",
   "execution_count": null,
   "id": "d5032b0c",
   "metadata": {},
   "outputs": [],
   "source": [
    "year = int(input(\"Which year do you want to check? \"))\n",
    "# 🚨 Don't change the code above 👆\n",
    "\n",
    "#Write your code below this line 👇\n",
    "\n",
    "if year % 4 == 0:\n",
    "    if year % 100 != 0:\n",
    "        print('Leap year.')\n",
    "    elif year % 100 == 0:\n",
    "        if year % 400 == 0:\n",
    "            print('Leap year.')\n",
    "        else:\n",
    "            print('Not leap year.')\n",
    "else:\n",
    "    print('Not leap year.')"
   ]
  },
  {
   "cell_type": "markdown",
   "id": "9161921c",
   "metadata": {},
   "source": [
    "### Exercise 4 - Piiza Order Practice"
   ]
  },
  {
   "cell_type": "code",
   "execution_count": null,
   "id": "08c66415",
   "metadata": {},
   "outputs": [],
   "source": [
    "print(\"Welcome to Python Pizza Deliveries!\")\n",
    "size = input(\"What size pizza do you want? S, M, or L \")\n",
    "add_pepperoni = input(\"Do you want pepperoni? Y or N \")\n",
    "extra_cheese = input(\"Do you want extra cheese? Y or N \")\n",
    "# 🚨 Don't change the code above 👆\n",
    "\n",
    "#Write your code below this line 👇\n",
    "\n",
    "bill = 0\n",
    "\n",
    "if size == 'S':\n",
    "    bill += 15\n",
    "    if add_pepperoni == 'Y':\n",
    "        bill += 2\n",
    "elif size == 'M':\n",
    "    bill += 20\n",
    "    if add_pepperoni == 'Y':\n",
    "        bill += 3\n",
    "elif size == 'L':\n",
    "    bill += 25\n",
    "    if add_pepperoni == 'Y':\n",
    "        bill += 3\n",
    "\n",
    "if extra_cheese == \"Y\":\n",
    "    bill += 1\n",
    "\n",
    "print(f'Your final bill is: ${bill}')"
   ]
  },
  {
   "cell_type": "markdown",
   "id": "258c3f0b",
   "metadata": {},
   "source": [
    "### Exercise 5 - Love calculator"
   ]
  },
  {
   "cell_type": "code",
   "execution_count": 1,
   "id": "c3db65a7",
   "metadata": {},
   "outputs": [
    {
     "name": "stdout",
     "output_type": "stream",
     "text": [
      "Welcome to the Love Calculator!\n",
      "What is your name? \n",
      "Daniel Castillo\n",
      "What is their name? \n",
      "Soleil Urrutia\n",
      "Your score is 89.\n"
     ]
    }
   ],
   "source": [
    "print(\"Welcome to the Love Calculator!\")\n",
    "name1 = input(\"What is your name? \\n\")\n",
    "name2 = input(\"What is their name? \\n\")\n",
    "# 🚨 Don't change the code above 👆\n",
    "\n",
    "#Write your code below this line 👇\n",
    "\n",
    "#Lowercase both names\n",
    "lower_name1 = name1.lower()\n",
    "lower_name2 = name2.lower()\n",
    "\n",
    "#Count how many times \"true\" and \"love\" characters appear on the first name\n",
    "count_true_name1 = lower_name1.count('t') + lower_name1.count('r') + lower_name1.count('u') + lower_name1.count('e')\n",
    "count_love_name1 = lower_name1.count('l') + lower_name1.count('o') + lower_name1.count('v') + lower_name1.count('e')\n",
    "\n",
    "#Count how many times \"true\" and \"love\" characters appear on the second name\n",
    "count_true_name2 = lower_name2.count('t') + lower_name2.count('r') + lower_name2.count('u') + lower_name2.count('e')\n",
    "count_love_name2 = lower_name2.count('l') + lower_name2.count('o') + lower_name2.count('v') + lower_name2.count('e')\n",
    "\n",
    "#Add the times the characters from \"True\" appeared in both names and convert to str to concatenate\n",
    "score_true = str(count_true_name1 + count_true_name2)\n",
    "score_love = str(count_love_name1 + count_love_name2)\n",
    "\n",
    "#Concatenate score and convert it back to integer\n",
    "score = int(score_true + score_love)\n",
    "\n",
    "#Print results\n",
    "if score < 10 or score > 90:\n",
    "    print(f\"Your score is {score}, you go together like coke and mentos.\")\n",
    "elif score > 40 and score < 50:\n",
    "    print(f\"Your score is {score}, you are alright together.\")\n",
    "else:\n",
    "    print(f\"Your score is {score}.\")"
   ]
  },
  {
   "cell_type": "markdown",
   "id": "db4312f1",
   "metadata": {},
   "source": [
    "### Day 3 Project - Treasure Island"
   ]
  },
  {
   "cell_type": "code",
   "execution_count": 25,
   "id": "70d971ee",
   "metadata": {
    "scrolled": false
   },
   "outputs": [
    {
     "name": "stdout",
     "output_type": "stream",
     "text": [
      "\n",
      "*******************************************************************************\n",
      "          |                   |                  |                     |\n",
      " _________|________________.=\"\"_;=.______________|_____________________|_______\n",
      "|                   |  ,-\"_,=\"\"     `\"=.|                  |\n",
      "|___________________|__\"=._o`\"-._        `\"=.______________|___________________\n",
      "          |                `\"=._o`\"=._      _`\"=._                     |\n",
      " _________|_____________________:=._o \"=._.\"_.-=\"'\"=.__________________|_______\n",
      "|                   |    __.--\" , ; `\"=._o.\" ,-\"\"\"-._ \".   |\n",
      "|___________________|_._\"  ,. .` ` `` ,  `\"-._\"-._   \". '__|___________________\n",
      "          |           |o`\"=._` , \"` `; .\". ,  \"-._\"-._; ;              |\n",
      " _________|___________| ;`-.o`\"=._; .\" ` '`.\"\\` . \"-._ /_______________|_______\n",
      "|                   | |o;    `\"-.o`\"=._``  '` \" ,__.--o;   |\n",
      "|___________________|_| ;     (#) `-.o `\"=.`_.--\"_o.-; ;___|___________________\n",
      "____/______/______/___|o;._    \"      `\".o|o_.--\"    ;o;____/______/______/____\n",
      "/______/______/______/_\"=._o--._        ; | ;        ; ;/______/______/______/_\n",
      "____/______/______/______/__\"=._o--._   ;o|o;     _._;o;____/______/______/____\n",
      "/______/______/______/______/____\"=._o._; | ;_.--\"o.--\"_/______/______/______/_\n",
      "____/______/______/______/______/_____\"=.o|o_.--\"\"___/______/______/______/____\n",
      "/______/______/______/______/______/______/______/______/______/______/_____ /\n",
      "*******************************************************************************\n",
      "\n",
      "Welcome to Cursed Treasure Island, where all your worst nightmares come true.\n",
      "Your mission is to find the treasure, which will provide you with a huge amount of gold, as well as a sacred artifact that will take you back home.\n",
      "Choose a path: \"left\" or \"right\". Be smart, otherwise you will be facing the reaper itself!\n",
      "left\n",
      "You head to a lake full of blood and human remains, but you feel like someone is following you. Type \"swim\" to swim across the lake; type \"wait\" to wait for a boat.\n",
      "wait\n",
      "A ghost boat appears right before you get possessed by a soul that was right behind you, you achieve to get across the lake, where you see a little island with a scary lighthouse in the middle of it. You decide to go in, and as you walk across the room gets bigger and bigger. Suddenly, there are three doors. One red, one yellow and one blue. Which color do you choose?\n",
      "blue\n",
      "You entered a room of beasts. Game Over.\n"
     ]
    }
   ],
   "source": [
    "print('''\n",
    "*******************************************************************************\n",
    "          |                   |                  |                     |\n",
    " _________|________________.=\"\"_;=.______________|_____________________|_______\n",
    "|                   |  ,-\"_,=\"\"     `\"=.|                  |\n",
    "|___________________|__\"=._o`\"-._        `\"=.______________|___________________\n",
    "          |                `\"=._o`\"=._      _`\"=._                     |\n",
    " _________|_____________________:=._o \"=._.\"_.-=\"'\"=.__________________|_______\n",
    "|                   |    __.--\" , ; `\"=._o.\" ,-\"\"\"-._ \".   |\n",
    "|___________________|_._\"  ,. .` ` `` ,  `\"-._\"-._   \". '__|___________________\n",
    "          |           |o`\"=._` , \"` `; .\". ,  \"-._\"-._; ;              |\n",
    " _________|___________| ;`-.o`\"=._; .\" ` '`.\"\\` . \"-._ /_______________|_______\n",
    "|                   | |o;    `\"-.o`\"=._``  '` \" ,__.--o;   |\n",
    "|___________________|_| ;     (#) `-.o `\"=.`_.--\"_o.-; ;___|___________________\n",
    "____/______/______/___|o;._    \"      `\".o|o_.--\"    ;o;____/______/______/____\n",
    "/______/______/______/_\"=._o--._        ; | ;        ; ;/______/______/______/_\n",
    "____/______/______/______/__\"=._o--._   ;o|o;     _._;o;____/______/______/____\n",
    "/______/______/______/______/____\"=._o._; | ;_.--\"o.--\"_/______/______/______/_\n",
    "____/______/______/______/______/_____\"=.o|o_.--\"\"___/______/______/______/____\n",
    "/______/______/______/______/______/______/______/______/______/______/_____ /\n",
    "*******************************************************************************\n",
    "''')\n",
    "print(\"Welcome to Cursed Treasure Island, where all your worst nightmares come true.\")\n",
    "print(\"Your mission is to find the treasure, which will provide you with a huge amount of gold, as well as a sacred artifact that will take you back home.\") \n",
    "\n",
    "#https://www.draw.io/?lightbox=1&highlight=0000ff&edit=_blank&layers=1&nav=1&title=Treasure%20Island%20Conditional.drawio#Uhttps%3A%2F%2Fdrive.google.com%2Fuc%3Fid%3D1oDe4ehjWZipYRsVfeAx2HyB7LCQ8_Fvi%26export%3Ddownload\n",
    "\n",
    "#Write your code below this line 👇\n",
    "\n",
    "path = input('Choose a path: \"left\" or \"right\". Be smart, otherwise you will be facing the reaper itself!\\n')\n",
    "path = path.lower()\n",
    "if path == 'left':\n",
    "    lake = input('You head to a lake full of blood and human remains, but you feel like someone is following you. Type \"swim\" to swim across the lake; type \"wait\" to wait for a boat.\\n')\n",
    "    lake = lake.lower()\n",
    "    if lake == 'wait':\n",
    "        door = input('A ghost boat appears right before you get possessed by a soul that was right behind you, you achieve to get across the lake, where you see a little island with a scary lighthouse in the middle of it. You decide to go in, and as you walk across the room gets bigger and bigger. Suddenly, there are three doors. One red, one yellow and one blue. Which color do you choose?\\n')\n",
    "        door = door.lower()\n",
    "        if door == 'red':\n",
    "            print(\"It's a room full of fire. Game Over.\")\n",
    "        elif door == 'yellow':\n",
    "            print('You found the treasure! You Win!')\n",
    "        elif door == 'blue':\n",
    "            print('You entered a room of beasts. Game Over.')\n",
    "        else:\n",
    "            print(\"You chose a door that doesn't exist. Game Over.\")\n",
    "    else:\n",
    "        print('You get attacked by an angry trout. Game Over.')\n",
    "else:\n",
    "    print('You fell into a hole. Game Over.')"
   ]
  }
 ],
 "metadata": {
  "kernelspec": {
   "display_name": "Python 3 (ipykernel)",
   "language": "python",
   "name": "python3"
  },
  "language_info": {
   "codemirror_mode": {
    "name": "ipython",
    "version": 3
   },
   "file_extension": ".py",
   "mimetype": "text/x-python",
   "name": "python",
   "nbconvert_exporter": "python",
   "pygments_lexer": "ipython3",
   "version": "3.9.12"
  }
 },
 "nbformat": 4,
 "nbformat_minor": 5
}
