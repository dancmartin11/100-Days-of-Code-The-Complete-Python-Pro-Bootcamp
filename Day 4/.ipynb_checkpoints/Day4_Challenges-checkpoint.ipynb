{
 "cells": [
  {
   "cell_type": "markdown",
   "id": "553947bf",
   "metadata": {},
   "source": [
    "# 100 Days of Coding Challenges"
   ]
  },
  {
   "cell_type": "markdown",
   "id": "cc058532",
   "metadata": {},
   "source": [
    "## Day 4"
   ]
  },
  {
   "cell_type": "markdown",
   "id": "d3bdd63c",
   "metadata": {},
   "source": [
    "<hr>"
   ]
  },
  {
   "cell_type": "markdown",
   "id": "c1d0c8f2",
   "metadata": {},
   "source": [
    "### Exercise 1 - Heads or Tails"
   ]
  },
  {
   "cell_type": "code",
   "execution_count": 14,
   "id": "38f0c063",
   "metadata": {},
   "outputs": [
    {
     "name": "stdout",
     "output_type": "stream",
     "text": [
      "Tails\n"
     ]
    }
   ],
   "source": [
    "#Remember to use the random module\n",
    "#Hint: Remember to import the random module here at the top of the file. 🎲\n",
    "#Write the rest of your code below this line 👇\n",
    "\n",
    "import random\n",
    "\n",
    "coin = random.randint(0,1)\n",
    "\n",
    "if coin == 0:\n",
    "    print('Heads')\n",
    "else:\n",
    "    print('Tails')"
   ]
  },
  {
   "cell_type": "markdown",
   "id": "76ea67e6",
   "metadata": {},
   "source": [
    "### Exercise 2 - Banker Roulette"
   ]
  },
  {
   "cell_type": "code",
   "execution_count": 21,
   "id": "a8a4a05a",
   "metadata": {},
   "outputs": [
    {
     "name": "stdout",
     "output_type": "stream",
     "text": [
      "Give me everybody's names, separated by a comma. D, F, T, Y, Y, N\n",
      "N is going to buy the meal today!\n"
     ]
    }
   ],
   "source": [
    "# Import the random module here\n",
    "import random\n",
    "# Split string method\n",
    "names_string = input(\"Give me everybody's names, separated by a comma. \")\n",
    "names = names_string.split(\", \")\n",
    "# 🚨 Don't change the code above 👆\n",
    "\n",
    "#Write your code below this line 👇\n",
    "\n",
    "#Total number of items\n",
    "items = len(names)\n",
    "\n",
    "#Generate a random integer between 0 and length-1 (to get all the index positions from list)\n",
    "rand = random.randint(0,(items-1))\n",
    "print(f'{names[rand]} is going to buy the meal today!')"
   ]
  },
  {
   "cell_type": "code",
   "execution_count": 7,
   "id": "253a1c91",
   "metadata": {},
   "outputs": [
    {
     "name": "stdout",
     "output_type": "stream",
     "text": [
      "Give me everybody's names, separated by a comma. R, F, G, H, T, Y, L, P\n",
      "H is going to buy the meal today!\n"
     ]
    }
   ],
   "source": [
    "#Other easier solution\n",
    "import random\n",
    "# Split string method\n",
    "names_string = input(\"Give me everybody's names, separated by a comma. \")\n",
    "names = names_string.split(\", \")\n",
    "\n",
    "rand = random.choice(names)\n",
    "print(f'{rand} is going to buy the meal today!')"
   ]
  },
  {
   "cell_type": "markdown",
   "id": "95c11cc3",
   "metadata": {},
   "source": [
    "### Exercise 3 - Treasure map"
   ]
  },
  {
   "cell_type": "code",
   "execution_count": 3,
   "id": "1d6b98e4",
   "metadata": {},
   "outputs": [
    {
     "name": "stdout",
     "output_type": "stream",
     "text": [
      "['⬜️', '️⬜️', '️⬜️']\n",
      "['⬜️', '⬜️', '️⬜️']\n",
      "['⬜️️', '⬜️️', '⬜️️']\n",
      "Where do you want to put the treasure? 13\n",
      "['⬜️', '️⬜️', '️⬜️']\n",
      "['⬜️', '⬜️', '️⬜️']\n",
      "['X', '⬜️️', '⬜️️']\n"
     ]
    }
   ],
   "source": [
    "row1 = [\"⬜️\",\"️⬜️\",\"️⬜️\"]\n",
    "row2 = [\"⬜️\",\"⬜️\",\"️⬜️\"]\n",
    "row3 = [\"⬜️️\",\"⬜️️\",\"⬜️️\"]\n",
    "map = [row1, row2, row3]\n",
    "print(f\"{row1}\\n{row2}\\n{row3}\")\n",
    "position = str(input(\"Where do you want to put the treasure? \"))\n",
    "\n",
    "#Create position list to separate two digit number\n",
    "position_list = list(position)\n",
    "\n",
    "#Separate both numbers and convert to integer\n",
    "column = int(position_list[0])\n",
    "row = int(position_list[1])\n",
    "\n",
    "#Create conditions to locate the 'X' in the lists\n",
    "if column == 1 and row ==1:\n",
    "    map[0][0] = 'X'\n",
    "elif column == 1 and row ==2:\n",
    "    map[1][0] = 'X'\n",
    "elif column == 1 and row ==3:\n",
    "    map[2][0] = 'X'\n",
    "elif column == 2 and row ==1:\n",
    "    map[0][1] = 'X'\n",
    "elif column == 2 and row ==2:\n",
    "    map[1][1] = 'X'\n",
    "elif column == 2 and row ==3:\n",
    "    map[2][1] = 'X'\n",
    "elif column == 3 and row ==1:\n",
    "    map[0][2] = 'X'\n",
    "elif column == 3 and row ==2:\n",
    "    map[1][2] = 'X'\n",
    "elif column == 3 and row ==3:\n",
    "    map[2][2] = 'X'\n",
    "else:\n",
    "    print('Out of bounds. Select a column and a row from 1 to 3.')\n",
    "\n",
    "#Print result of treasure map\n",
    "print(f\"{row1}\\n{row2}\\n{row3}\")"
   ]
  },
  {
   "cell_type": "code",
   "execution_count": 19,
   "id": "d78ba1c4",
   "metadata": {},
   "outputs": [
    {
     "name": "stdout",
     "output_type": "stream",
     "text": [
      "['⬜️', '️⬜️', '️⬜️']\n",
      "['⬜️', '⬜️', '️⬜️']\n",
      "['⬜️️', '⬜️️', '⬜️️']\n",
      "Where do you want to put the treasure? 31\n",
      "['⬜️', '️⬜️', 'X']\n",
      "['⬜️', '⬜️', '️⬜️']\n",
      "['⬜️️', '⬜️️', '⬜️️']\n"
     ]
    }
   ],
   "source": [
    "#Other easier solution:\n",
    "row1 = [\"⬜️\",\"️⬜️\",\"️⬜️\"]\n",
    "row2 = [\"⬜️\",\"⬜️\",\"️⬜️\"]\n",
    "row3 = [\"⬜️️\",\"⬜️️\",\"⬜️️\"]\n",
    "map = [row1, row2, row3]\n",
    "print(f\"{row1}\\n{row2}\\n{row3}\")\n",
    "position = str(input(\"Where do you want to put the treasure? \"))\n",
    "\n",
    "#Select two digits (positions)\n",
    "column = int(position[0])\n",
    "row = int(position[1])\n",
    "\n",
    "#Select the position where the trasure will be placed\n",
    "map[row - 1][column - 1] = 'X'\n",
    "\n",
    "#Print result of treasure map\n",
    "print(f\"{row1}\\n{row2}\\n{row3}\")"
   ]
  },
  {
   "cell_type": "markdown",
   "id": "59f817ed",
   "metadata": {},
   "source": [
    "### Day 4 Project - Rock, Paper, Scissors"
   ]
  },
  {
   "cell_type": "code",
   "execution_count": 12,
   "id": "024f5b76",
   "metadata": {},
   "outputs": [
    {
     "name": "stdout",
     "output_type": "stream",
     "text": [
      "What do you choose? Type 0 for Rock, 1 for Paper or 2 for Scissors.\n",
      "2\n",
      "\n",
      "    _______\n",
      "---'   ____)____\n",
      "          ______)\n",
      "       __________)\n",
      "      (____)\n",
      "---.__(___)\n",
      "\n",
      "Computer chose:\n",
      "\n",
      "    _______\n",
      "---'   ____)____\n",
      "          ______)\n",
      "       __________)\n",
      "      (____)\n",
      "---.__(___)\n",
      "\n",
      "It's a draw\n"
     ]
    }
   ],
   "source": [
    "import random\n",
    "#ASCII Art for the game\n",
    "rock = '''\n",
    "    _______\n",
    "---'   ____)\n",
    "      (_____)\n",
    "      (_____)\n",
    "      (____)\n",
    "---.__(___)\n",
    "'''\n",
    "\n",
    "paper = '''\n",
    "    _______\n",
    "---'   ____)____\n",
    "          ______)\n",
    "          _______)\n",
    "         _______)\n",
    "---.__________)\n",
    "'''\n",
    "\n",
    "scissors = '''\n",
    "    _______\n",
    "---'   ____)____\n",
    "          ______)\n",
    "       __________)\n",
    "      (____)\n",
    "---.__(___)\n",
    "'''\n",
    "\n",
    "#Create a list for rock, paper and scissors\n",
    "game_list = [rock, paper, scissors]\n",
    "\n",
    "#Input your choice\n",
    "try:\n",
    "    input_choice = int(input('What do you choose? Type 0 for Rock, 1 for Paper or 2 for Scissors.\\n'))\n",
    "    player_choice = game_list[input_choice]\n",
    "    print(player_choice)\n",
    "\n",
    "    #Set the computer decision\n",
    "    rand = random.randint(1,3)\n",
    "    computer_choice = game_list[rand-1]\n",
    "    print(f'Computer chose:\\n{computer_choice}')\n",
    "\n",
    "    #Set results\n",
    "    if player_choice == rock and computer_choice == scissors:\n",
    "        print('You win!')\n",
    "    elif player_choice == scissors and computer_choice == paper:\n",
    "        print('You win!')\n",
    "    elif player_choice == paper and computer_choice == rock:\n",
    "        print('You win!')\n",
    "    elif player_choice == computer_choice:\n",
    "        print(\"It's a draw\")\n",
    "    else:\n",
    "        print('You lose')\n",
    "except:\n",
    "    print('You typed an invalid number, you lose!')"
   ]
  },
  {
   "cell_type": "code",
   "execution_count": 1,
   "id": "121859ad",
   "metadata": {},
   "outputs": [
    {
     "name": "stdout",
     "output_type": "stream",
     "text": [
      "What do you choose? Type 0 for Rock, 1 for Paper or 2 for Scissors.\n",
      "2\n",
      "\n",
      "    _______\n",
      "---'   ____)____\n",
      "          ______)\n",
      "       __________)\n",
      "      (____)\n",
      "---.__(___)\n",
      "\n",
      "Computer chose:\n",
      "\n",
      "    _______\n",
      "---'   ____)____\n",
      "          ______)\n",
      "       __________)\n",
      "      (____)\n",
      "---.__(___)\n",
      "\n",
      "It's a draw\n"
     ]
    }
   ],
   "source": [
    "#OTHER SOLUTION\n",
    "import random\n",
    "\n",
    "rock = '''\n",
    "    _______\n",
    "---'   ____)\n",
    "      (_____)\n",
    "      (_____)\n",
    "      (____)\n",
    "---.__(___)\n",
    "'''\n",
    "\n",
    "paper = '''\n",
    "    _______\n",
    "---'   ____)____\n",
    "          ______)\n",
    "          _______)\n",
    "         _______)\n",
    "---.__________)\n",
    "'''\n",
    "\n",
    "scissors = '''\n",
    "    _______\n",
    "---'   ____)____\n",
    "          ______)\n",
    "       __________)\n",
    "      (____)\n",
    "---.__(___)\n",
    "'''\n",
    "\n",
    "game_images = [rock, paper, scissors]\n",
    "\n",
    "user_choice = int(input(\"What do you choose? Type 0 for Rock, 1 for Paper or 2 for Scissors.\\n\"))\n",
    "\n",
    "if user_choice >= 3 or user_choice < 0: \n",
    "  print(\"You typed an invalid number, you lose!\") \n",
    "else:\n",
    "    print(game_images[user_choice])\n",
    "\n",
    "    computer_choice = random.randint(0, 2)\n",
    "    print(\"Computer chose:\")\n",
    "    print(game_images[computer_choice])\n",
    "\n",
    "    if user_choice == 0 and computer_choice == 2:\n",
    "      print(\"You win!\")\n",
    "    elif computer_choice == 0 and user_choice == 2:\n",
    "      print(\"You lose\")\n",
    "    elif computer_choice > user_choice:\n",
    "      print(\"You lose\")\n",
    "    elif user_choice > computer_choice:\n",
    "      print(\"You win!\")\n",
    "    elif computer_choice == user_choice:\n",
    "      print(\"It's a draw\")"
   ]
  }
 ],
 "metadata": {
  "kernelspec": {
   "display_name": "Python 3 (ipykernel)",
   "language": "python",
   "name": "python3"
  },
  "language_info": {
   "codemirror_mode": {
    "name": "ipython",
    "version": 3
   },
   "file_extension": ".py",
   "mimetype": "text/x-python",
   "name": "python",
   "nbconvert_exporter": "python",
   "pygments_lexer": "ipython3",
   "version": "3.9.12"
  }
 },
 "nbformat": 4,
 "nbformat_minor": 5
}
