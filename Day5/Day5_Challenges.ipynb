{
 "cells": [
  {
   "cell_type": "markdown",
   "id": "553947bf",
   "metadata": {},
   "source": [
    "# 100 Days of Coding Challenges"
   ]
  },
  {
   "cell_type": "markdown",
   "id": "d381fef9",
   "metadata": {},
   "source": [
    "## Day 5"
   ]
  },
  {
   "cell_type": "markdown",
   "id": "eb5b5510",
   "metadata": {},
   "source": [
    "<hr>"
   ]
  },
  {
   "cell_type": "markdown",
   "id": "9fbbe0c4",
   "metadata": {},
   "source": [
    "### Exercise 1 - Average Height"
   ]
  },
  {
   "cell_type": "code",
   "execution_count": 4,
   "id": "db296fc9",
   "metadata": {},
   "outputs": [
    {
     "name": "stdout",
     "output_type": "stream",
     "text": [
      "Input a list of student heights 100 200\n",
      "150\n"
     ]
    }
   ],
   "source": [
    "student_heights = input(\"Input a list of student heights \").split()\n",
    "for n in range(0, len(student_heights)):\n",
    "    student_heights[n] = int(student_heights[n])\n",
    "# 🚨 Don't change the code above 👆\n",
    "\n",
    "#Write your code below this row 👇\n",
    "\n",
    "#Create empty variable to add heights\n",
    "sum_heights = 0\n",
    "\n",
    "#Add heights\n",
    "for i in student_heights:\n",
    "    sum_heights += i\n",
    "\n",
    "#Create empty variable to count heights\n",
    "total_heights = 0\n",
    "\n",
    "#Count heights\n",
    "for i in student_heights:\n",
    "    total_heights += 1\n",
    "\n",
    "#Get average and round result\n",
    "average_height = round(sum_heights / total_heights)\n",
    "\n",
    "#print rounded result\n",
    "print(average_height)"
   ]
  },
  {
   "cell_type": "markdown",
   "id": "ba99a3c6",
   "metadata": {},
   "source": [
    "### Exercise 2 - High Score"
   ]
  },
  {
   "cell_type": "code",
   "execution_count": 6,
   "id": "52437bad",
   "metadata": {},
   "outputs": [
    {
     "name": "stdout",
     "output_type": "stream",
     "text": [
      "Input a list of student scores 90 86 78 83\n",
      "The highest score in the class is: 90\n"
     ]
    }
   ],
   "source": [
    "# 🚨 Don't change the code below 👇\n",
    "student_scores = input(\"Input a list of student scores \").split()\n",
    "for n in range(0, len(student_scores)):\n",
    "    student_scores[n] = int(student_scores[n])\n",
    "# 🚨 Don't change the code above 👆\n",
    "\n",
    "#Write your code below this row 👇\n",
    "\n",
    "#Create empty variable for highest score\n",
    "highest_score = 0\n",
    "\n",
    "#Search for highest score\n",
    "for  score in student_scores:\n",
    "    if score > highest_score:\n",
    "        highest_score = score\n",
    "\n",
    "#Print result\n",
    "print(f'The highest score in the class is: {highest_score}')"
   ]
  },
  {
   "cell_type": "markdown",
   "id": "8f1d47fa",
   "metadata": {},
   "source": [
    "### Exercise 3 - Adding Even Numbers"
   ]
  },
  {
   "cell_type": "code",
   "execution_count": 14,
   "id": "b4be6747",
   "metadata": {},
   "outputs": [
    {
     "name": "stdout",
     "output_type": "stream",
     "text": [
      "2550\n"
     ]
    }
   ],
   "source": [
    "#Create empty variable for the total\n",
    "total = 0\n",
    "\n",
    "#Add only even numbers, if modulo by two equals cero\n",
    "for number in range(1,101):\n",
    "    if number % 2 == 0:\n",
    "        total += number\n",
    "print(total)"
   ]
  },
  {
   "cell_type": "code",
   "execution_count": 15,
   "id": "1ae561a4",
   "metadata": {},
   "outputs": [
    {
     "name": "stdout",
     "output_type": "stream",
     "text": [
      "2550\n"
     ]
    }
   ],
   "source": [
    "#Another easy solution\n",
    "total = 0\n",
    "for number in range(2,101,2):\n",
    "    total += number\n",
    "print(total)"
   ]
  },
  {
   "cell_type": "markdown",
   "id": "9fc00bd7",
   "metadata": {},
   "source": [
    "### Exercise 4 - FizzBuzz"
   ]
  },
  {
   "cell_type": "code",
   "execution_count": 16,
   "id": "2b36f397",
   "metadata": {},
   "outputs": [
    {
     "name": "stdout",
     "output_type": "stream",
     "text": [
      "1\n",
      "2\n",
      "Fizz\n",
      "4\n",
      "Buzz\n",
      "Fizz\n",
      "7\n",
      "8\n",
      "Fizz\n",
      "Buzz\n",
      "11\n",
      "Fizz\n",
      "13\n",
      "14\n",
      "FizzBuzz\n",
      "16\n",
      "17\n",
      "Fizz\n",
      "19\n",
      "Buzz\n",
      "Fizz\n",
      "22\n",
      "23\n",
      "Fizz\n",
      "Buzz\n",
      "26\n",
      "Fizz\n",
      "28\n",
      "29\n",
      "FizzBuzz\n",
      "31\n",
      "32\n",
      "Fizz\n",
      "34\n",
      "Buzz\n",
      "Fizz\n",
      "37\n",
      "38\n",
      "Fizz\n",
      "Buzz\n",
      "41\n",
      "Fizz\n",
      "43\n",
      "44\n",
      "FizzBuzz\n",
      "46\n",
      "47\n",
      "Fizz\n",
      "49\n",
      "Buzz\n",
      "Fizz\n",
      "52\n",
      "53\n",
      "Fizz\n",
      "Buzz\n",
      "56\n",
      "Fizz\n",
      "58\n",
      "59\n",
      "FizzBuzz\n",
      "61\n",
      "62\n",
      "Fizz\n",
      "64\n",
      "Buzz\n",
      "Fizz\n",
      "67\n",
      "68\n",
      "Fizz\n",
      "Buzz\n",
      "71\n",
      "Fizz\n",
      "73\n",
      "74\n",
      "FizzBuzz\n",
      "76\n",
      "77\n",
      "Fizz\n",
      "79\n",
      "Buzz\n",
      "Fizz\n",
      "82\n",
      "83\n",
      "Fizz\n",
      "Buzz\n",
      "86\n",
      "Fizz\n",
      "88\n",
      "89\n",
      "FizzBuzz\n",
      "91\n",
      "92\n",
      "Fizz\n",
      "94\n",
      "Buzz\n",
      "Fizz\n",
      "97\n",
      "98\n",
      "Fizz\n",
      "Buzz\n"
     ]
    }
   ],
   "source": [
    "#Create range with conditionals (divisible by 3 AND 5, divisible just by 3 OR 5)\n",
    "for number in range(1,101):\n",
    "    if number % 3 == 0 and number % 5 == 0:\n",
    "        print('FizzBuzz')\n",
    "    elif number % 3 == 0 and number % 5 != 0:\n",
    "        print('Fizz')\n",
    "    elif number % 3 != 0 and number % 5 == 0:\n",
    "        print('Buzz')\n",
    "    else:\n",
    "        print(number)"
   ]
  },
  {
   "cell_type": "markdown",
   "id": "9b120a51",
   "metadata": {},
   "source": [
    "### Day 5 Project: Create a Password Generator"
   ]
  },
  {
   "cell_type": "code",
   "execution_count": 22,
   "id": "74cfad4b",
   "metadata": {
    "scrolled": true
   },
   "outputs": [
    {
     "name": "stdout",
     "output_type": "stream",
     "text": [
      "Welcome to the PyPassword Generator!\n",
      "How many letters would you like in your password?\n",
      "10\n",
      "How many symbols would you like?\n",
      "10\n",
      "How many numbers would you like?\n",
      "10\n",
      "Here is your password: loeJDUhoMf!!%(*!*&+0541736040\n"
     ]
    }
   ],
   "source": [
    "#Easy level (Letters-Symbols-Numbers in order)\n",
    "import random\n",
    "letters = ['a', 'b', 'c', 'd', 'e', 'f', 'g', 'h', 'i', 'j', 'k', 'l', 'm', 'n', 'o', 'p', 'q', 'r', 's', 't', 'u', 'v', 'w', 'x', 'y', 'z', 'A', 'B', 'C', 'D', 'E', 'F', 'G', 'H', 'I', 'J', 'K', 'L', 'M', 'N', 'O', 'P', 'Q', 'R', 'S', 'T', 'U', 'V', 'W', 'X', 'Y', 'Z']\n",
    "numbers = ['0', '1', '2', '3', '4', '5', '6', '7', '8', '9']\n",
    "symbols = ['!', '#', '$', '%', '&', '(', ')', '*', '+']\n",
    "\n",
    "print(\"Welcome to the PyPassword Generator!\")\n",
    "nr_letters= int(input(\"How many letters would you like in your password?\\n\")) \n",
    "nr_symbols = int(input(f\"How many symbols would you like?\\n\"))\n",
    "nr_numbers = int(input(f\"How many numbers would you like?\\n\"))\n",
    "\n",
    "#Create empty lists to store random letters, symbols and numbers\n",
    "sel_letters = []\n",
    "sel_symbols = []\n",
    "sel_numbers = []\n",
    "\n",
    "#Create loop to select random letters and append them into previous list (according to the input length)\n",
    "for letter in letters:\n",
    "    if len(sel_letters) < nr_letters:\n",
    "        letter = random.choice(letters)\n",
    "        sel_letters.append(letter)\n",
    "\n",
    "#Create loop to select random symbols and append them into previous list (according to the input length)\n",
    "for symbol in symbols:\n",
    "    if len(sel_symbols) < nr_symbols:\n",
    "        symbol = random.choice(symbols)\n",
    "        sel_symbols.append(symbol)\n",
    "\n",
    "#Create loop to select random numbers and append them into previous list (according to the input length)\n",
    "for number in numbers:\n",
    "    if len(sel_numbers) < nr_numbers:\n",
    "        number = random.choice(numbers)\n",
    "        sel_numbers.append(number)\n",
    "\n",
    "password_list = sel_letters + sel_symbols + sel_numbers\n",
    "password = ''\n",
    "for character in password_list:\n",
    "    password += character\n",
    "print(f'Here is your password: {password}')"
   ]
  },
  {
   "cell_type": "code",
   "execution_count": 38,
   "id": "d4c0413e",
   "metadata": {},
   "outputs": [
    {
     "name": "stdout",
     "output_type": "stream",
     "text": [
      "Welcome to the PyPassword Generator!\n",
      "How many letters would you like in your password?\n",
      "4\n",
      "How many symbols would you like?\n",
      "4\n",
      "How many numbers would you like?\n",
      "4\n",
      "Here is your password: fnxF$&&$2342\n"
     ]
    }
   ],
   "source": [
    "#Easy level - Other method\n",
    "import random\n",
    "letters = ['a', 'b', 'c', 'd', 'e', 'f', 'g', 'h', 'i', 'j', 'k', 'l', 'm', 'n', 'o', 'p', 'q', 'r', 's', 't', 'u', 'v', 'w', 'x', 'y', 'z', 'A', 'B', 'C', 'D', 'E', 'F', 'G', 'H', 'I', 'J', 'K', 'L', 'M', 'N', 'O', 'P', 'Q', 'R', 'S', 'T', 'U', 'V', 'W', 'X', 'Y', 'Z']\n",
    "numbers = ['0', '1', '2', '3', '4', '5', '6', '7', '8', '9']\n",
    "symbols = ['!', '#', '$', '%', '&', '(', ')', '*', '+']\n",
    "\n",
    "print(\"Welcome to the PyPassword Generator!\")\n",
    "nr_letters= int(input(\"How many letters would you like in your password?\\n\")) \n",
    "nr_symbols = int(input(f\"How many symbols would you like?\\n\"))\n",
    "nr_numbers = int(input(f\"How many numbers would you like?\\n\"))\n",
    "\n",
    "#Create empty string\n",
    "password = \"\"\n",
    "\n",
    "#Create loops to generate random characters according to the input length\n",
    "for character in range(1, nr_letters + 1):\n",
    "    password += random.choice(letters)\n",
    "for character in range(1, nr_symbols + 1):\n",
    "    password += random.choice(symbols)\n",
    "for character in range(1, nr_numbers + 1):\n",
    "    password += random.choice(numbers)\n",
    "\n",
    "#Print result\n",
    "print(f'Here is your password: {password}')"
   ]
  },
  {
   "cell_type": "code",
   "execution_count": 42,
   "id": "05bd824a",
   "metadata": {},
   "outputs": [
    {
     "name": "stdout",
     "output_type": "stream",
     "text": [
      "Welcome to the PyPassword Generator!\n",
      "How many letters would you like in your password?\n",
      "8\n",
      "How many symbols would you like?\n",
      "3\n",
      "How many numbers would you like?\n",
      "5\n",
      "Here is your password: 27F!s3jDaN1YJ+&8\n"
     ]
    }
   ],
   "source": [
    "#Hard level (Character order randomly generated) - random.shuffle() function\n",
    "import random\n",
    "letters = ['a', 'b', 'c', 'd', 'e', 'f', 'g', 'h', 'i', 'j', 'k', 'l', 'm', 'n', 'o', 'p', 'q', 'r', 's', 't', 'u', 'v', 'w', 'x', 'y', 'z', 'A', 'B', 'C', 'D', 'E', 'F', 'G', 'H', 'I', 'J', 'K', 'L', 'M', 'N', 'O', 'P', 'Q', 'R', 'S', 'T', 'U', 'V', 'W', 'X', 'Y', 'Z']\n",
    "numbers = ['0', '1', '2', '3', '4', '5', '6', '7', '8', '9']\n",
    "symbols = ['!', '#', '$', '%', '&', '(', ')', '*', '+']\n",
    "\n",
    "print(\"Welcome to the PyPassword Generator!\")\n",
    "nr_letters= int(input(\"How many letters would you like in your password?\\n\")) \n",
    "nr_symbols = int(input(f\"How many symbols would you like?\\n\"))\n",
    "nr_numbers = int(input(f\"How many numbers would you like?\\n\"))\n",
    "\n",
    "#Create empty lists to store random letters, symbols and numbers\n",
    "sel_letters = []\n",
    "sel_symbols = []\n",
    "sel_numbers = []\n",
    "\n",
    "#Create loop to select random letters and append them into previous list (according to the input length)\n",
    "for letter in letters:\n",
    "    if len(sel_letters) < nr_letters:\n",
    "        letter = random.choice(letters)\n",
    "        sel_letters.append(letter)\n",
    "\n",
    "#Create loop to select random symbols and append them into previous list (according to the input length)\n",
    "for symbol in symbols:\n",
    "    if len(sel_symbols) < nr_symbols:\n",
    "        symbol = random.choice(symbols)\n",
    "        sel_symbols.append(symbol)\n",
    "\n",
    "#Create loop to select random numbers and append them into previous list (according to the input length)\n",
    "for number in numbers:\n",
    "    if len(sel_numbers) < nr_numbers:\n",
    "        number = random.choice(numbers)\n",
    "        sel_numbers.append(number)\n",
    "\n",
    "password_list = sel_letters + sel_symbols + sel_numbers\n",
    "\n",
    "#Hard Level: Position characters in a random order \n",
    "random.shuffle(password_list)\n",
    "\n",
    "#Create empty string and concatenate each character\n",
    "password = ''\n",
    "for character in password_list:\n",
    "    password += character\n",
    "\n",
    "\n",
    "print(f'Here is your password: {password}')"
   ]
  }
 ],
 "metadata": {
  "kernelspec": {
   "display_name": "Python 3 (ipykernel)",
   "language": "python",
   "name": "python3"
  },
  "language_info": {
   "codemirror_mode": {
    "name": "ipython",
    "version": 3
   },
   "file_extension": ".py",
   "mimetype": "text/x-python",
   "name": "python",
   "nbconvert_exporter": "python",
   "pygments_lexer": "ipython3",
   "version": "3.9.12"
  }
 },
 "nbformat": 4,
 "nbformat_minor": 5
}
