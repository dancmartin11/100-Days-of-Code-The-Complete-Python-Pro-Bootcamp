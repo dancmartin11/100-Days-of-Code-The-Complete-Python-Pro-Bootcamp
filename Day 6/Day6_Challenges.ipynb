{
 "cells": [
  {
   "cell_type": "markdown",
   "id": "553947bf",
   "metadata": {},
   "source": [
    "# 100 Days of Coding Challenges"
   ]
  },
  {
   "cell_type": "markdown",
   "id": "1bc6c7c7",
   "metadata": {},
   "source": [
    "## Day 6"
   ]
  },
  {
   "cell_type": "markdown",
   "id": "19c05079",
   "metadata": {},
   "source": [
    "<hr>"
   ]
  },
  {
   "cell_type": "markdown",
   "id": "d896c5c0",
   "metadata": {},
   "source": [
    "### Exercise 1 -  Reeborg's World (Part 1)"
   ]
  },
  {
   "cell_type": "markdown",
   "id": "875ae6ff",
   "metadata": {},
   "source": [
    "Open the following platform to do the exercise: https://reeborg.ca/reeborg.html?lang=en&mode=python&menu=worlds%2Fmenus%2Freeborg_intro_en.json&name=Alone&url=worlds%2Ftutorial_en%2Falone.json"
   ]
  },
  {
   "cell_type": "code",
   "execution_count": null,
   "id": "2adf8953",
   "metadata": {},
   "outputs": [],
   "source": [
    "def turn_right():\n",
    "    turn_left()\n",
    "    turn_left()\n",
    "    turn_left()\n",
    "    \n",
    "turn_left()\n",
    "move()\n",
    "turn_right()\n",
    "move()\n",
    "turn_right()\n",
    "move()\n",
    "turn_right()\n",
    "move()"
   ]
  },
  {
   "cell_type": "markdown",
   "id": "a6e0622b",
   "metadata": {},
   "source": [
    "### Exercise 2 - Reeborg's World (Part 2)"
   ]
  },
  {
   "cell_type": "markdown",
   "id": "ba676933",
   "metadata": {},
   "source": [
    "Open the following platform to do the exercise: https://reeborg.ca/reeborg.html?lang=en&mode=python&menu=worlds%2Fmenus%2Freeborg_intro_en.json&name=Hurdle%201&url=worlds%2Ftutorial_en%2Fhurdle1.json"
   ]
  },
  {
   "cell_type": "code",
   "execution_count": 1,
   "id": "69c11bfc",
   "metadata": {},
   "outputs": [
    {
     "ename": "NameError",
     "evalue": "name 'move' is not defined",
     "output_type": "error",
     "traceback": [
      "\u001b[1;31m---------------------------------------------------------------------------\u001b[0m",
      "\u001b[1;31mNameError\u001b[0m                                 Traceback (most recent call last)",
      "Input \u001b[1;32mIn [1]\u001b[0m, in \u001b[0;36m<cell line: 13>\u001b[1;34m()\u001b[0m\n\u001b[0;32m     12\u001b[0m     turn_left()\n\u001b[0;32m     13\u001b[0m \u001b[38;5;28;01mfor\u001b[39;00m i \u001b[38;5;129;01min\u001b[39;00m \u001b[38;5;28mrange\u001b[39m(\u001b[38;5;241m1\u001b[39m,\u001b[38;5;241m7\u001b[39m):\n\u001b[1;32m---> 14\u001b[0m     \u001b[43mmove\u001b[49m()\n\u001b[0;32m     15\u001b[0m     jump()\n",
      "\u001b[1;31mNameError\u001b[0m: name 'move' is not defined"
     ]
    }
   ],
   "source": [
    "def turn_right():\n",
    "    turn_left()\n",
    "    turn_left()\n",
    "    turn_left()\n",
    "\n",
    "def jump():\n",
    "    turn_left()\n",
    "    move()\n",
    "    turn_right()\n",
    "    move()\n",
    "    turn_right()\n",
    "    move()\n",
    "    turn_left()\n",
    "\n",
    "for i in range(1,7):\n",
    "    move()\n",
    "    jump()"
   ]
  },
  {
   "cell_type": "code",
   "execution_count": null,
   "id": "afce5887",
   "metadata": {},
   "outputs": [],
   "source": [
    "#Another solution with while loop\n",
    "def turn_right():\n",
    "    turn_left()\n",
    "    turn_left()\n",
    "    turn_left()\n",
    "\n",
    "def jump():\n",
    "    turn_left()\n",
    "    move()\n",
    "    turn_right()\n",
    "    move()\n",
    "    turn_right()\n",
    "    move()\n",
    "    turn_left()\n",
    "\n",
    "num_of_hurdles = 6\n",
    "\n",
    "while num_of_hurdles > 0:\n",
    "    move()\n",
    "    jump()\n",
    "    num_of_hurdles -= 1"
   ]
  },
  {
   "cell_type": "markdown",
   "id": "fd6b5ef6",
   "metadata": {},
   "source": [
    "### Exercise 3 - Reeborg's World (Part 3)"
   ]
  },
  {
   "cell_type": "markdown",
   "id": "c978ee9a",
   "metadata": {},
   "source": [
    "Open the following platform to do the exercise: https://reeborg.ca/reeborg.html?lang=en&mode=python&menu=worlds%2Fmenus%2Freeborg_intro_en.json&name=Hurdle%202&url=worlds%2Ftutorial_en%2Fhurdle2.json"
   ]
  },
  {
   "cell_type": "code",
   "execution_count": null,
   "id": "e64a6241",
   "metadata": {},
   "outputs": [],
   "source": [
    "def turn_right():\n",
    "    turn_left()\n",
    "    turn_left()\n",
    "    turn_left()\n",
    "    \n",
    "def jump():\n",
    "    move()\n",
    "    turn_left()\n",
    "    move()\n",
    "    turn_right()\n",
    "    move()\n",
    "    turn_right()\n",
    "    move()\n",
    "    turn_left()\n",
    " \n",
    "while at_goal() != True:\n",
    "    jump()"
   ]
  },
  {
   "cell_type": "code",
   "execution_count": null,
   "id": "b4d17b77",
   "metadata": {},
   "outputs": [],
   "source": [
    "#Other solution:\n",
    "def turn_right():\n",
    "    turn_left()\n",
    "    turn_left()\n",
    "    turn_left()\n",
    "    \n",
    "def jump():\n",
    "    move()\n",
    "    turn_left()\n",
    "    move()\n",
    "    turn_right()\n",
    "    move()\n",
    "    turn_right()\n",
    "    move()\n",
    "    turn_left()\n",
    " \n",
    "while not at_goal():\n",
    "    jump()"
   ]
  },
  {
   "cell_type": "markdown",
   "id": "9be7f805",
   "metadata": {},
   "source": [
    "### Exercise 4 - Reeborg's World (Part 4)"
   ]
  },
  {
   "cell_type": "markdown",
   "id": "41299e84",
   "metadata": {},
   "source": [
    "Open the following platform to do the exercise: https://reeborg.ca/reeborg.html?lang=en&mode=python&menu=worlds%2Fmenus%2Freeborg_intro_en.json&name=Hurdle%203&url=worlds%2Ftutorial_en%2Fhurdle3.json"
   ]
  },
  {
   "cell_type": "code",
   "execution_count": null,
   "id": "29e980c2",
   "metadata": {},
   "outputs": [],
   "source": [
    "def turn_right():\n",
    "    turn_left()\n",
    "    turn_left()\n",
    "    turn_left()\n",
    "    \n",
    "def jump():\n",
    "    turn_left()\n",
    "    move()\n",
    "    turn_right()\n",
    "    move()\n",
    "    turn_right()\n",
    "    move()\n",
    "    turn_left()\n",
    " \n",
    "while not at_goal():\n",
    "    if wall_in_front() == True:\n",
    "        jump()\n",
    "    else:\n",
    "        move()"
   ]
  },
  {
   "cell_type": "markdown",
   "id": "defe7a3f",
   "metadata": {},
   "source": [
    "### Exercise 5 - Reeborg's World (Part 5)"
   ]
  },
  {
   "cell_type": "markdown",
   "id": "4bb3e18e",
   "metadata": {},
   "source": [
    "Open the following platform to do the exercise: https://reeborg.ca/reeborg.html?lang=en&mode=python&menu=worlds%2Fmenus%2Freeborg_intro_en.json&name=Hurdle%204&url=worlds%2Ftutorial_en%2Fhurdle4.json"
   ]
  },
  {
   "cell_type": "code",
   "execution_count": null,
   "id": "fd915f2f",
   "metadata": {},
   "outputs": [],
   "source": [
    "def turn_right():\n",
    "    turn_left()\n",
    "    turn_left()\n",
    "    turn_left()\n",
    "    \n",
    "def jump():\n",
    "    turn_left()\n",
    "    while wall_on_right() == True:\n",
    "        move()\n",
    "    else:\n",
    "        turn_right()\n",
    "        move()\n",
    "        turn_right()\n",
    "    while front_is_clear():\n",
    "        move()\n",
    "    else:\n",
    "        turn_left()\n",
    " \n",
    "while not at_goal():\n",
    "    if wall_in_front() == True:\n",
    "        jump()\n",
    "    else:\n",
    "        move()"
   ]
  },
  {
   "cell_type": "markdown",
   "id": "dabbd100",
   "metadata": {},
   "source": [
    "### Day 6 Project: Escape The Maze"
   ]
  },
  {
   "cell_type": "markdown",
   "id": "3e80d3a5",
   "metadata": {},
   "source": [
    "Open the following platform to do the exercise: https://reeborg.ca/reeborg.html?lang=en&mode=python&menu=worlds%2Fmenus%2Freeborg_intro_en.json&name=Maze&url=worlds%2Ftutorial_en%2Fmaze1.json"
   ]
  },
  {
   "cell_type": "code",
   "execution_count": null,
   "id": "9c2b5c1e",
   "metadata": {},
   "outputs": [],
   "source": [
    "def turn_right():\n",
    "    turn_left()\n",
    "    turn_left()\n",
    "    turn_left()\n",
    "\n",
    "while front_is_clear():\n",
    "    move()\n",
    "turn_left()\n",
    "   \n",
    "while not at_goal():\n",
    "    if right_is_clear() == True:\n",
    "        turn_right()\n",
    "        move()\n",
    "    elif front_is_clear() == True:\n",
    "        move()\n",
    "    else:\n",
    "        turn_left()"
   ]
  }
 ],
 "metadata": {
  "kernelspec": {
   "display_name": "Python 3 (ipykernel)",
   "language": "python",
   "name": "python3"
  },
  "language_info": {
   "codemirror_mode": {
    "name": "ipython",
    "version": 3
   },
   "file_extension": ".py",
   "mimetype": "text/x-python",
   "name": "python",
   "nbconvert_exporter": "python",
   "pygments_lexer": "ipython3",
   "version": "3.9.12"
  }
 },
 "nbformat": 4,
 "nbformat_minor": 5
}
